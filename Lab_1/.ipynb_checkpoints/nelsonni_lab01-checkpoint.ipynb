{
 "cells": [
  {
   "cell_type": "markdown",
   "id": "d854025d",
   "metadata": {},
   "source": [
    "# Lab 01: Data Cleaning\n",
    "## Author: Nigel Nelson\n",
    "## Introduction: \n",
    "- This lab acts as an exercise in using Pandas to interpret and clean a provided data set. Specifically, the Pandas library is used to import a data set containing information on real estate transactions for the city of Sacramento, and other surrounding cities in Sacramento. A DataFrame is created from this data set, which is then analyzed for the inferred types, and then using knowledge of the problem space more appropriate types are assigned where necessary. Next, categorical and continuous variables are visualized to gain greater insight on the entries that are contained in the data set. Useful variables are then engineered from the existing data and added to DataFrame to aid in future analysis of this data set. Finally, outliers in the data set are identified, removed, and a cleaned version of the original data set is saved to a new .csv file.\n",
    "\n",
    "\n",
    "\n",
    "---\n",
    "---\n",
    "### Imports:"
   ]
  },
  {
   "cell_type": "code",
   "execution_count": 1,
   "id": "27d21999",
   "metadata": {},
   "outputs": [],
   "source": [
    "import pandas as pd\n",
    "import matplotlib.pyplot as plt\n",
    "import re"
   ]
  },
  {
   "cell_type": "markdown",
   "id": "506147b8",
   "metadata": {},
   "source": [
    "## 1. Loading the Data and Initial Assessment"
   ]
  },
  {
   "cell_type": "code",
   "execution_count": 2,
   "id": "485b0cb9",
   "metadata": {},
   "outputs": [
    {
     "data": {
      "text/html": [
       "<div>\n",
       "<style scoped>\n",
       "    .dataframe tbody tr th:only-of-type {\n",
       "        vertical-align: middle;\n",
       "    }\n",
       "\n",
       "    .dataframe tbody tr th {\n",
       "        vertical-align: top;\n",
       "    }\n",
       "\n",
       "    .dataframe thead th {\n",
       "        text-align: right;\n",
       "    }\n",
       "</style>\n",
       "<table border=\"1\" class=\"dataframe\">\n",
       "  <thead>\n",
       "    <tr style=\"text-align: right;\">\n",
       "      <th></th>\n",
       "      <th>street</th>\n",
       "      <th>city</th>\n",
       "      <th>zip</th>\n",
       "      <th>state</th>\n",
       "      <th>beds</th>\n",
       "      <th>baths</th>\n",
       "      <th>sq__ft</th>\n",
       "      <th>type</th>\n",
       "      <th>sale_date</th>\n",
       "      <th>price</th>\n",
       "      <th>latitude</th>\n",
       "      <th>longitude</th>\n",
       "    </tr>\n",
       "  </thead>\n",
       "  <tbody>\n",
       "    <tr>\n",
       "      <th>0</th>\n",
       "      <td>3526 HIGH ST</td>\n",
       "      <td>SACRAMENTO</td>\n",
       "      <td>95838</td>\n",
       "      <td>CA</td>\n",
       "      <td>2</td>\n",
       "      <td>1</td>\n",
       "      <td>836</td>\n",
       "      <td>Residential</td>\n",
       "      <td>Wed May 21 00:00:00 EDT 2008</td>\n",
       "      <td>59222</td>\n",
       "      <td>38.631913</td>\n",
       "      <td>-121.434879</td>\n",
       "    </tr>\n",
       "    <tr>\n",
       "      <th>1</th>\n",
       "      <td>51 OMAHA CT</td>\n",
       "      <td>SACRAMENTO</td>\n",
       "      <td>95823</td>\n",
       "      <td>CA</td>\n",
       "      <td>3</td>\n",
       "      <td>1</td>\n",
       "      <td>1167</td>\n",
       "      <td>Residential</td>\n",
       "      <td>Wed May 21 00:00:00 EDT 2008</td>\n",
       "      <td>68212</td>\n",
       "      <td>38.478902</td>\n",
       "      <td>-121.431028</td>\n",
       "    </tr>\n",
       "    <tr>\n",
       "      <th>2</th>\n",
       "      <td>2796 BRANCH ST</td>\n",
       "      <td>SACRAMENTO</td>\n",
       "      <td>95815</td>\n",
       "      <td>CA</td>\n",
       "      <td>2</td>\n",
       "      <td>1</td>\n",
       "      <td>796</td>\n",
       "      <td>Residential</td>\n",
       "      <td>Wed May 21 00:00:00 EDT 2008</td>\n",
       "      <td>68880</td>\n",
       "      <td>38.618305</td>\n",
       "      <td>-121.443839</td>\n",
       "    </tr>\n",
       "    <tr>\n",
       "      <th>3</th>\n",
       "      <td>2805 JANETTE WAY</td>\n",
       "      <td>SACRAMENTO</td>\n",
       "      <td>95815</td>\n",
       "      <td>CA</td>\n",
       "      <td>2</td>\n",
       "      <td>1</td>\n",
       "      <td>852</td>\n",
       "      <td>Residential</td>\n",
       "      <td>Wed May 21 00:00:00 EDT 2008</td>\n",
       "      <td>69307</td>\n",
       "      <td>38.616835</td>\n",
       "      <td>-121.439146</td>\n",
       "    </tr>\n",
       "    <tr>\n",
       "      <th>4</th>\n",
       "      <td>6001 MCMAHON DR</td>\n",
       "      <td>SACRAMENTO</td>\n",
       "      <td>95824</td>\n",
       "      <td>CA</td>\n",
       "      <td>2</td>\n",
       "      <td>1</td>\n",
       "      <td>797</td>\n",
       "      <td>Residential</td>\n",
       "      <td>Wed May 21 00:00:00 EDT 2008</td>\n",
       "      <td>81900</td>\n",
       "      <td>38.519470</td>\n",
       "      <td>-121.435768</td>\n",
       "    </tr>\n",
       "  </tbody>\n",
       "</table>\n",
       "</div>"
      ],
      "text/plain": [
       "             street        city    zip state  beds  baths  sq__ft  \\\n",
       "0      3526 HIGH ST  SACRAMENTO  95838    CA     2      1     836   \n",
       "1       51 OMAHA CT  SACRAMENTO  95823    CA     3      1    1167   \n",
       "2    2796 BRANCH ST  SACRAMENTO  95815    CA     2      1     796   \n",
       "3  2805 JANETTE WAY  SACRAMENTO  95815    CA     2      1     852   \n",
       "4   6001 MCMAHON DR  SACRAMENTO  95824    CA     2      1     797   \n",
       "\n",
       "          type                     sale_date  price   latitude   longitude  \n",
       "0  Residential  Wed May 21 00:00:00 EDT 2008  59222  38.631913 -121.434879  \n",
       "1  Residential  Wed May 21 00:00:00 EDT 2008  68212  38.478902 -121.431028  \n",
       "2  Residential  Wed May 21 00:00:00 EDT 2008  68880  38.618305 -121.443839  \n",
       "3  Residential  Wed May 21 00:00:00 EDT 2008  69307  38.616835 -121.439146  \n",
       "4  Residential  Wed May 21 00:00:00 EDT 2008  81900  38.519470 -121.435768  "
      ]
     },
     "execution_count": 2,
     "metadata": {},
     "output_type": "execute_result"
    }
   ],
   "source": [
    "real_estate_df = pd.read_csv('Sacramentorealestatetransactions.csv')\n",
    "real_estate_df.head()"
   ]
  },
  {
   "cell_type": "markdown",
   "id": "deaf7949",
   "metadata": {},
   "source": [
    "- What are the variables? \n",
    "  - The *Sacramentorealestatetransactions* data set has 12 variables describing real estate transactions in California. This includes the **street** address, the **city**, the **zip**, the **state**, the numbers of **beds**, the number of **baths**, the square footage of residential space(**sq_ft**), the **type** of real estate, the **sale date**, the sale **price**, the **latitude**, and the **longitude**."
   ]
  },
  {
   "cell_type": "code",
   "execution_count": 3,
   "id": "c0a2099c",
   "metadata": {},
   "outputs": [
    {
     "name": "stdout",
     "output_type": "stream",
     "text": [
      "<class 'pandas.core.frame.DataFrame'>\n",
      "RangeIndex: 985 entries, 0 to 984\n",
      "Data columns (total 12 columns):\n",
      " #   Column     Non-Null Count  Dtype  \n",
      "---  ------     --------------  -----  \n",
      " 0   street     985 non-null    object \n",
      " 1   city       985 non-null    object \n",
      " 2   zip        985 non-null    int64  \n",
      " 3   state      985 non-null    object \n",
      " 4   beds       985 non-null    int64  \n",
      " 5   baths      985 non-null    int64  \n",
      " 6   sq__ft     985 non-null    int64  \n",
      " 7   type       985 non-null    object \n",
      " 8   sale_date  985 non-null    object \n",
      " 9   price      985 non-null    int64  \n",
      " 10  latitude   985 non-null    float64\n",
      " 11  longitude  985 non-null    float64\n",
      "dtypes: float64(2), int64(5), object(5)\n",
      "memory usage: 92.5+ KB\n"
     ]
    }
   ],
   "source": [
    "real_estate_df.info()"
   ]
  },
  {
   "cell_type": "markdown",
   "id": "c66c5ea7",
   "metadata": {},
   "source": [
    "- What are their inferred types?\n",
    "  - | Variable Name | Inferred Type |\n",
    "|---------------|---------------|\n",
    "| street        | object        |\n",
    "| city          | object        |\n",
    "| zip           | int64         |\n",
    "| state         | object        |\n",
    "| beds          | int64         |\n",
    "| baths         | int64         |\n",
    "| sq_ft         | int64         |\n",
    "| type          | object        |\n",
    "| sale_date     | object        |\n",
    "| price         | int64         |\n",
    "| latitude      | float64       |\n",
    "| longitude     | float64       |"
   ]
  },
  {
   "cell_type": "code",
   "execution_count": 4,
   "id": "ac0790b3",
   "metadata": {},
   "outputs": [
    {
     "data": {
      "text/plain": [
       "street       False\n",
       "city         False\n",
       "zip          False\n",
       "state        False\n",
       "beds         False\n",
       "baths        False\n",
       "sq__ft       False\n",
       "type         False\n",
       "sale_date    False\n",
       "price        False\n",
       "latitude     False\n",
       "longitude    False\n",
       "dtype: bool"
      ]
     },
     "execution_count": 4,
     "metadata": {},
     "output_type": "execute_result"
    }
   ],
   "source": [
    "real_estate_df.isnull().any()"
   ]
  },
  {
   "cell_type": "markdown",
   "id": "fe62cc45",
   "metadata": {},
   "source": [
    "- Do any of the columns have null values?\n",
    "  - No, none of the columns have null values."
   ]
  },
  {
   "cell_type": "markdown",
   "id": "9a973a49",
   "metadata": {},
   "source": [
    "## 2. Representing Categorical Variables\n",
    "### Counting the number of unique values for the streets, zip codes, and beds:"
   ]
  },
  {
   "cell_type": "code",
   "execution_count": 5,
   "id": "92e193e9",
   "metadata": {},
   "outputs": [
    {
     "name": "stdout",
     "output_type": "stream",
     "text": [
      "Unique number of street suffixes: 49\n",
      "Unique number of zip codes: 68\n",
      "Unique number of bed counts: 8\n"
     ]
    }
   ],
   "source": [
    "street_suffixes = real_estate_df['street'].apply(lambda address: address.split()[-1])\n",
    "num_unique_suffixes = street_suffixes.nunique()\n",
    "num_unique_zips = real_estate_df['zip'].nunique()\n",
    "num_unique_beds = real_estate_df['beds'].nunique()\n",
    "print(f'Unique number of street suffixes: {num_unique_suffixes}')\n",
    "print(f'Unique number of zip codes: {num_unique_zips}')\n",
    "print(f'Unique number of bed counts: {num_unique_beds}')"
   ]
  },
  {
   "cell_type": "markdown",
   "id": "48555a74",
   "metadata": {},
   "source": [
    "### Converting the following variables to categorical variables: city, state, zip, beds, baths, and type:"
   ]
  },
  {
   "cell_type": "code",
   "execution_count": 6,
   "id": "c7ff26b4",
   "metadata": {},
   "outputs": [
    {
     "data": {
      "text/html": [
       "<div>\n",
       "<style scoped>\n",
       "    .dataframe tbody tr th:only-of-type {\n",
       "        vertical-align: middle;\n",
       "    }\n",
       "\n",
       "    .dataframe tbody tr th {\n",
       "        vertical-align: top;\n",
       "    }\n",
       "\n",
       "    .dataframe thead th {\n",
       "        text-align: right;\n",
       "    }\n",
       "</style>\n",
       "<table border=\"1\" class=\"dataframe\">\n",
       "  <thead>\n",
       "    <tr style=\"text-align: right;\">\n",
       "      <th></th>\n",
       "      <th>street</th>\n",
       "      <th>city</th>\n",
       "      <th>zip</th>\n",
       "      <th>state</th>\n",
       "      <th>beds</th>\n",
       "      <th>baths</th>\n",
       "      <th>sq__ft</th>\n",
       "      <th>type</th>\n",
       "      <th>sale_date</th>\n",
       "      <th>price</th>\n",
       "      <th>latitude</th>\n",
       "      <th>longitude</th>\n",
       "    </tr>\n",
       "  </thead>\n",
       "  <tbody>\n",
       "    <tr>\n",
       "      <th>0</th>\n",
       "      <td>3526 HIGH ST</td>\n",
       "      <td>SACRAMENTO</td>\n",
       "      <td>95838</td>\n",
       "      <td>CA</td>\n",
       "      <td>2</td>\n",
       "      <td>1</td>\n",
       "      <td>836</td>\n",
       "      <td>Residential</td>\n",
       "      <td>Wed May 21 00:00:00 EDT 2008</td>\n",
       "      <td>59222</td>\n",
       "      <td>38.631913</td>\n",
       "      <td>-121.434879</td>\n",
       "    </tr>\n",
       "    <tr>\n",
       "      <th>1</th>\n",
       "      <td>51 OMAHA CT</td>\n",
       "      <td>SACRAMENTO</td>\n",
       "      <td>95823</td>\n",
       "      <td>CA</td>\n",
       "      <td>3</td>\n",
       "      <td>1</td>\n",
       "      <td>1167</td>\n",
       "      <td>Residential</td>\n",
       "      <td>Wed May 21 00:00:00 EDT 2008</td>\n",
       "      <td>68212</td>\n",
       "      <td>38.478902</td>\n",
       "      <td>-121.431028</td>\n",
       "    </tr>\n",
       "    <tr>\n",
       "      <th>2</th>\n",
       "      <td>2796 BRANCH ST</td>\n",
       "      <td>SACRAMENTO</td>\n",
       "      <td>95815</td>\n",
       "      <td>CA</td>\n",
       "      <td>2</td>\n",
       "      <td>1</td>\n",
       "      <td>796</td>\n",
       "      <td>Residential</td>\n",
       "      <td>Wed May 21 00:00:00 EDT 2008</td>\n",
       "      <td>68880</td>\n",
       "      <td>38.618305</td>\n",
       "      <td>-121.443839</td>\n",
       "    </tr>\n",
       "    <tr>\n",
       "      <th>3</th>\n",
       "      <td>2805 JANETTE WAY</td>\n",
       "      <td>SACRAMENTO</td>\n",
       "      <td>95815</td>\n",
       "      <td>CA</td>\n",
       "      <td>2</td>\n",
       "      <td>1</td>\n",
       "      <td>852</td>\n",
       "      <td>Residential</td>\n",
       "      <td>Wed May 21 00:00:00 EDT 2008</td>\n",
       "      <td>69307</td>\n",
       "      <td>38.616835</td>\n",
       "      <td>-121.439146</td>\n",
       "    </tr>\n",
       "    <tr>\n",
       "      <th>4</th>\n",
       "      <td>6001 MCMAHON DR</td>\n",
       "      <td>SACRAMENTO</td>\n",
       "      <td>95824</td>\n",
       "      <td>CA</td>\n",
       "      <td>2</td>\n",
       "      <td>1</td>\n",
       "      <td>797</td>\n",
       "      <td>Residential</td>\n",
       "      <td>Wed May 21 00:00:00 EDT 2008</td>\n",
       "      <td>81900</td>\n",
       "      <td>38.519470</td>\n",
       "      <td>-121.435768</td>\n",
       "    </tr>\n",
       "  </tbody>\n",
       "</table>\n",
       "</div>"
      ],
      "text/plain": [
       "             street        city    zip state beds baths  sq__ft         type  \\\n",
       "0      3526 HIGH ST  SACRAMENTO  95838    CA    2     1     836  Residential   \n",
       "1       51 OMAHA CT  SACRAMENTO  95823    CA    3     1    1167  Residential   \n",
       "2    2796 BRANCH ST  SACRAMENTO  95815    CA    2     1     796  Residential   \n",
       "3  2805 JANETTE WAY  SACRAMENTO  95815    CA    2     1     852  Residential   \n",
       "4   6001 MCMAHON DR  SACRAMENTO  95824    CA    2     1     797  Residential   \n",
       "\n",
       "                      sale_date  price   latitude   longitude  \n",
       "0  Wed May 21 00:00:00 EDT 2008  59222  38.631913 -121.434879  \n",
       "1  Wed May 21 00:00:00 EDT 2008  68212  38.478902 -121.431028  \n",
       "2  Wed May 21 00:00:00 EDT 2008  68880  38.618305 -121.443839  \n",
       "3  Wed May 21 00:00:00 EDT 2008  69307  38.616835 -121.439146  \n",
       "4  Wed May 21 00:00:00 EDT 2008  81900  38.519470 -121.435768  "
      ]
     },
     "execution_count": 6,
     "metadata": {},
     "output_type": "execute_result"
    }
   ],
   "source": [
    "real_estate_df['city'] = real_estate_df['city'].astype('category')\n",
    "real_estate_df['state'] = real_estate_df['state'].astype('category')\n",
    "real_estate_df['zip'] = real_estate_df['zip'].astype('category')\n",
    "real_estate_df['beds'] = real_estate_df['beds'].astype('category')\n",
    "real_estate_df['baths'] = real_estate_df['baths'].astype('category')\n",
    "real_estate_df['type'] = real_estate_df['type'].astype('category')\n",
    "\n",
    "real_estate_df.head()"
   ]
  },
  {
   "cell_type": "markdown",
   "id": "1cb29334",
   "metadata": {},
   "source": [
    "- Do you think it is more appropriate to represent these three variables as \n",
    "categorical or integer variables? Why or why not?\n",
    "  - I think that it is more appropriate to represent the beds and baths as integer values. This is because categorizing these results in values that are less intuitive than their native integer types. By leaving these values as integers, you allow a wider array of operations to be performed on these variables, such as summing the number of beds on a street, or dividing the cost of the home by the number of baths to get an idea of how number of baths impacts the homes cost. However, converting the city, state, zip, and type to categorical is much more intuitive than representing them as integers. This is because for the city, state, and type variables, they are natively represented as strings, and they represent a finite number of categories that should not be used in numerical operations such as adding 2 street integers together, or multiplying the city by the type. Zip code is interpreted as an integer natively, however, it is better served as a categorical type because it is not an ordered value, and it does not make sense to allow greater than comparisons between zip codes, or numerical operations on zip codes such as multiplying one zip code by another."
   ]
  },
  {
   "cell_type": "markdown",
   "id": "17407c9a",
   "metadata": {},
   "source": [
    "## 3. Cleaning Continuous Variables\n",
    "### Plotting histograms of the square footage, latitudes, and longitudes:"
   ]
  },
  {
   "cell_type": "code",
   "execution_count": 7,
   "id": "d6d81878",
   "metadata": {},
   "outputs": [
    {
     "data": {
      "text/plain": [
       "Text(0.5, 1.0, 'Frequency vs. Square Footage')"
      ]
     },
     "execution_count": 7,
     "metadata": {},
     "output_type": "execute_result"
    },
    {
     "data": {
      "image/png": "[encoded data removed]",
      "text/plain": [
       "<Figure size 432x288 with 1 Axes>"
      ]
     },
     "metadata": {
      "needs_background": "light"
     },
     "output_type": "display_data"
    }
   ],
   "source": [
    "real_estate_df['sq__ft'].hist()\n",
    "plt.xlabel('Square Footage (sq. ft.)')\n",
    "plt.ylabel('Frequency')\n",
    "plt.title('Frequency vs. Square Footage')"
   ]
  },
  {
   "cell_type": "code",
   "execution_count": 8,
   "id": "6f7a76e0",
   "metadata": {},
   "outputs": [
    {
     "data": {
      "text/plain": [
       "Text(0.5, 1.0, 'Frequency vs. Latitude')"
      ]
     },
     "execution_count": 8,
     "metadata": {},
     "output_type": "execute_result"
    },
    {
     "data": {
      "image/png": "[encoded data removed]",
      "text/plain": [
       "<Figure size 432x288 with 1 Axes>"
      ]
     },
     "metadata": {
      "needs_background": "light"
     },
     "output_type": "display_data"
    }
   ],
   "source": [
    "real_estate_df['latitude'].hist()\n",
    "plt.xlabel('Latitude')\n",
    "plt.ylabel('Frequency')\n",
    "plt.title('Frequency vs. Latitude')"
   ]
  },
  {
   "cell_type": "code",
   "execution_count": 9,
   "id": "58a752fc",
   "metadata": {},
   "outputs": [
    {
     "data": {
      "text/plain": [
       "Text(0.5, 1.0, 'Frequency vs. Longitude')"
      ]
     },
     "execution_count": 9,
     "metadata": {},
     "output_type": "execute_result"
    },
    {
     "data": {
      "image/png": "[encoded data removed]",
      "text/plain": [
       "<Figure size 432x288 with 1 Axes>"
      ]
     },
     "metadata": {
      "needs_background": "light"
     },
     "output_type": "display_data"
    }
   ],
   "source": [
    "real_estate_df['longitude'].hist()\n",
    "plt.xlabel('Longitude')\n",
    "plt.ylabel('Frequency')\n",
    "plt.title('Frequency vs. Longitude')"
   ]
  },
  {
   "cell_type": "markdown",
   "id": "45dac6ce",
   "metadata": {},
   "source": [
    "- Do you notice any “odd” patterns in any of the plots? Do you think they real or \n",
    "artifacts?\n",
    "  - One odd pattern is that in the plot of square footages, there are over 150 properties that have 0 square footage. This is likely real, and can be explained by the fact that some of these properties may be empty lots, or contain exclusively buildings that don't count towards square footage, such as sheds and parking structures."
   ]
  },
  {
   "cell_type": "markdown",
   "id": "ca71b4cf",
   "metadata": {},
   "source": [
    "## 4. Cleaning Categorical Variables\n",
    "### Plotting the beds, baths, type, state, city, and zip codes as count (bar) plots:"
   ]
  },
  {
   "cell_type": "code",
   "execution_count": 10,
   "id": "dae54b7e",
   "metadata": {},
   "outputs": [
    {
     "data": {
      "text/plain": [
       "Text(0.5, 1.0, 'Frequency vs. Number of Beds')"
      ]
     },
     "execution_count": 10,
     "metadata": {},
     "output_type": "execute_result"
    },
    {
     "data": {
      "image/png": "[encoded data removed]",
      "text/plain": [
       "<Figure size 432x288 with 1 Axes>"
      ]
     },
     "metadata": {
      "needs_background": "light"
     },
     "output_type": "display_data"
    }
   ],
   "source": [
    "real_estate_df['beds'].value_counts(sort=False).plot.bar()\n",
    "plt.xlabel('Number of Beds')\n",
    "plt.ylabel('Frequency')\n",
    "plt.title('Frequency vs. Number of Beds')"
   ]
  },
  {
   "cell_type": "code",
   "execution_count": 11,
   "id": "82b29fda",
   "metadata": {},
   "outputs": [
    {
     "data": {
      "text/plain": [
       "Text(0.5, 1.0, 'Frequency vs. Number of Baths')"
      ]
     },
     "execution_count": 11,
     "metadata": {},
     "output_type": "execute_result"
    },
    {
     "data": {
      "image/png": "[encoded data removed]",
      "text/plain": [
       "<Figure size 432x288 with 1 Axes>"
      ]
     },
     "metadata": {
      "needs_background": "light"
     },
     "output_type": "display_data"
    }
   ],
   "source": [
    "real_estate_df['baths'].value_counts(sort=False).plot.bar()\n",
    "plt.xlabel('Number of Baths')\n",
    "plt.ylabel('Frequency')\n",
    "plt.title('Frequency vs. Number of Baths')"
   ]
  },
  {
   "cell_type": "code",
   "execution_count": 12,
   "id": "e3412c52",
   "metadata": {},
   "outputs": [
    {
     "data": {
      "text/plain": [
       "Text(0.5, 1.0, 'Frequency vs. Type of Property')"
      ]
     },
     "execution_count": 12,
     "metadata": {},
     "output_type": "execute_result"
    },
    {
     "data": {
      "image/png": "[encoded data removed]",
      "text/plain": [
       "<Figure size 432x288 with 1 Axes>"
      ]
     },
     "metadata": {
      "needs_background": "light"
     },
     "output_type": "display_data"
    }
   ],
   "source": [
    "real_estate_df['type'].value_counts().plot.bar()\n",
    "plt.xlabel('Type of Property')\n",
    "plt.ylabel('Frequency')\n",
    "plt.title('Frequency vs. Type of Property')"
   ]
  },
  {
   "cell_type": "code",
   "execution_count": 13,
   "id": "61009702",
   "metadata": {},
   "outputs": [
    {
     "data": {
      "text/plain": [
       "Text(0.5, 1.0, 'Frequency vs. State')"
      ]
     },
     "execution_count": 13,
     "metadata": {},
     "output_type": "execute_result"
    },
    {
     "data": {
      "image/png": "[encoded data removed]",
      "text/plain": [
       "<Figure size 432x288 with 1 Axes>"
      ]
     },
     "metadata": {
      "needs_background": "light"
     },
     "output_type": "display_data"
    }
   ],
   "source": [
    "real_estate_df['state'].value_counts().plot.bar()\n",
    "plt.xlabel('State')\n",
    "plt.ylabel('Frequency')\n",
    "plt.title('Frequency vs. State')"
   ]
  },
  {
   "cell_type": "code",
   "execution_count": 14,
   "id": "91a6bdef",
   "metadata": {},
   "outputs": [
    {
     "data": {
      "text/plain": [
       "Text(0.5, 1.0, 'Frequency vs. City')"
      ]
     },
     "execution_count": 14,
     "metadata": {},
     "output_type": "execute_result"
    },
    {
     "data": {
      "image/png": "[encoded data removed]",
      "text/plain": [
       "<Figure size 720x504 with 1 Axes>"
      ]
     },
     "metadata": {
      "needs_background": "light"
     },
     "output_type": "display_data"
    }
   ],
   "source": [
    "plt.figure(figsize=(10,7))\n",
    "real_estate_df['city'].value_counts().plot.bar()\n",
    "plt.xlabel('City', fontsize=20)\n",
    "plt.ylabel('Frequency', fontsize=20)\n",
    "plt.title('Frequency vs. City', fontsize=20)"
   ]
  },
  {
   "cell_type": "code",
   "execution_count": 15,
   "id": "8e7c22d6",
   "metadata": {},
   "outputs": [
    {
     "data": {
      "image/png": "[encoded data removed]",
      "text/plain": [
       "<Figure size 1440x720 with 1 Axes>"
      ]
     },
     "metadata": {
      "needs_background": "light"
     },
     "output_type": "display_data"
    }
   ],
   "source": [
    "plt.figure(figsize=(20,10))\n",
    "plt.rc('xtick',labelsize=20)\n",
    "plt.rc('ytick',labelsize=20)\n",
    "real_estate_df['zip'].value_counts().plot.bar()\n",
    "plt.xlabel('Zip Code', fontsize=20)\n",
    "plt.ylabel('Frequency', fontsize=20)\n",
    "plt.title('Frequency vs. Zip Code', fontsize=20)\n",
    "plt.rc('xtick',labelsize=12)\n",
    "plt.rc('ytick',labelsize=12)"
   ]
  },
  {
   "cell_type": "markdown",
   "id": "d115a4fe",
   "metadata": {},
   "source": [
    "- Do you notice any “odd” patterns in any of the plots? Do you think they real or \n",
    "artifacts?\n",
    "  - One odd pattern was the fact that there were a considerable amount of properties without any beds or bathrooms. As mentioned in section 3, this is likely not an artifact and due to the fact that some properties sold did not contain any residential space.\n",
    "  - Another odd pattern was that the property type 'Unknown' appears to have 0 transactions associated with this type. This is also not likely an artifact as this type could be useful in real estate transaction records, however this dataset happens to only contains known property types."
   ]
  },
  {
   "cell_type": "markdown",
   "id": "481c1099",
   "metadata": {},
   "source": [
    "## 5. Engineering New Variables – Part I\n",
    "### Creating a new boolean variable called \"empty_lot\":"
   ]
  },
  {
   "cell_type": "code",
   "execution_count": 16,
   "id": "00c89bd0",
   "metadata": {
    "scrolled": true
   },
   "outputs": [
    {
     "data": {
      "text/html": [
       "<div>\n",
       "<style scoped>\n",
       "    .dataframe tbody tr th:only-of-type {\n",
       "        vertical-align: middle;\n",
       "    }\n",
       "\n",
       "    .dataframe tbody tr th {\n",
       "        vertical-align: top;\n",
       "    }\n",
       "\n",
       "    .dataframe thead th {\n",
       "        text-align: right;\n",
       "    }\n",
       "</style>\n",
       "<table border=\"1\" class=\"dataframe\">\n",
       "  <thead>\n",
       "    <tr style=\"text-align: right;\">\n",
       "      <th></th>\n",
       "      <th>street</th>\n",
       "      <th>city</th>\n",
       "      <th>zip</th>\n",
       "      <th>state</th>\n",
       "      <th>beds</th>\n",
       "      <th>baths</th>\n",
       "      <th>sq__ft</th>\n",
       "      <th>type</th>\n",
       "      <th>sale_date</th>\n",
       "      <th>price</th>\n",
       "      <th>latitude</th>\n",
       "      <th>longitude</th>\n",
       "      <th>empty_lot</th>\n",
       "    </tr>\n",
       "  </thead>\n",
       "  <tbody>\n",
       "    <tr>\n",
       "      <th>0</th>\n",
       "      <td>3526 HIGH ST</td>\n",
       "      <td>SACRAMENTO</td>\n",
       "      <td>95838</td>\n",
       "      <td>CA</td>\n",
       "      <td>2</td>\n",
       "      <td>1</td>\n",
       "      <td>836</td>\n",
       "      <td>Residential</td>\n",
       "      <td>Wed May 21 00:00:00 EDT 2008</td>\n",
       "      <td>59222</td>\n",
       "      <td>38.631913</td>\n",
       "      <td>-121.434879</td>\n",
       "      <td>False</td>\n",
       "    </tr>\n",
       "    <tr>\n",
       "      <th>1</th>\n",
       "      <td>51 OMAHA CT</td>\n",
       "      <td>SACRAMENTO</td>\n",
       "      <td>95823</td>\n",
       "      <td>CA</td>\n",
       "      <td>3</td>\n",
       "      <td>1</td>\n",
       "      <td>1167</td>\n",
       "      <td>Residential</td>\n",
       "      <td>Wed May 21 00:00:00 EDT 2008</td>\n",
       "      <td>68212</td>\n",
       "      <td>38.478902</td>\n",
       "      <td>-121.431028</td>\n",
       "      <td>False</td>\n",
       "    </tr>\n",
       "    <tr>\n",
       "      <th>2</th>\n",
       "      <td>2796 BRANCH ST</td>\n",
       "      <td>SACRAMENTO</td>\n",
       "      <td>95815</td>\n",
       "      <td>CA</td>\n",
       "      <td>2</td>\n",
       "      <td>1</td>\n",
       "      <td>796</td>\n",
       "      <td>Residential</td>\n",
       "      <td>Wed May 21 00:00:00 EDT 2008</td>\n",
       "      <td>68880</td>\n",
       "      <td>38.618305</td>\n",
       "      <td>-121.443839</td>\n",
       "      <td>False</td>\n",
       "    </tr>\n",
       "    <tr>\n",
       "      <th>3</th>\n",
       "      <td>2805 JANETTE WAY</td>\n",
       "      <td>SACRAMENTO</td>\n",
       "      <td>95815</td>\n",
       "      <td>CA</td>\n",
       "      <td>2</td>\n",
       "      <td>1</td>\n",
       "      <td>852</td>\n",
       "      <td>Residential</td>\n",
       "      <td>Wed May 21 00:00:00 EDT 2008</td>\n",
       "      <td>69307</td>\n",
       "      <td>38.616835</td>\n",
       "      <td>-121.439146</td>\n",
       "      <td>False</td>\n",
       "    </tr>\n",
       "    <tr>\n",
       "      <th>4</th>\n",
       "      <td>6001 MCMAHON DR</td>\n",
       "      <td>SACRAMENTO</td>\n",
       "      <td>95824</td>\n",
       "      <td>CA</td>\n",
       "      <td>2</td>\n",
       "      <td>1</td>\n",
       "      <td>797</td>\n",
       "      <td>Residential</td>\n",
       "      <td>Wed May 21 00:00:00 EDT 2008</td>\n",
       "      <td>81900</td>\n",
       "      <td>38.519470</td>\n",
       "      <td>-121.435768</td>\n",
       "      <td>False</td>\n",
       "    </tr>\n",
       "  </tbody>\n",
       "</table>\n",
       "</div>"
      ],
      "text/plain": [
       "             street        city    zip state beds baths  sq__ft         type  \\\n",
       "0      3526 HIGH ST  SACRAMENTO  95838    CA    2     1     836  Residential   \n",
       "1       51 OMAHA CT  SACRAMENTO  95823    CA    3     1    1167  Residential   \n",
       "2    2796 BRANCH ST  SACRAMENTO  95815    CA    2     1     796  Residential   \n",
       "3  2805 JANETTE WAY  SACRAMENTO  95815    CA    2     1     852  Residential   \n",
       "4   6001 MCMAHON DR  SACRAMENTO  95824    CA    2     1     797  Residential   \n",
       "\n",
       "                      sale_date  price   latitude   longitude  empty_lot  \n",
       "0  Wed May 21 00:00:00 EDT 2008  59222  38.631913 -121.434879      False  \n",
       "1  Wed May 21 00:00:00 EDT 2008  68212  38.478902 -121.431028      False  \n",
       "2  Wed May 21 00:00:00 EDT 2008  68880  38.618305 -121.443839      False  \n",
       "3  Wed May 21 00:00:00 EDT 2008  69307  38.616835 -121.439146      False  \n",
       "4  Wed May 21 00:00:00 EDT 2008  81900  38.519470 -121.435768      False  "
      ]
     },
     "execution_count": 16,
     "metadata": {},
     "output_type": "execute_result"
    }
   ],
   "source": [
    "real_estate_df['empty_lot'] = real_estate_df['sq__ft'] == 0\n",
    "real_estate_df.head()"
   ]
  },
  {
   "cell_type": "markdown",
   "id": "2bd06a81",
   "metadata": {},
   "source": [
    "### Plotting the counts for the empty_lot variable:"
   ]
  },
  {
   "cell_type": "code",
   "execution_count": 17,
   "id": "dba9de2a",
   "metadata": {},
   "outputs": [
    {
     "data": {
      "text/plain": [
       "Text(0.5, 1.0, 'Frequency vs. Empty Lot Classification')"
      ]
     },
     "execution_count": 17,
     "metadata": {},
     "output_type": "execute_result"
    },
    {
     "data": {
      "image/png": "[encoded data removed]",
      "text/plain": [
       "<Figure size 432x288 with 1 Axes>"
      ]
     },
     "metadata": {
      "needs_background": "light"
     },
     "output_type": "display_data"
    }
   ],
   "source": [
    "real_estate_df['empty_lot'].value_counts().plot.bar()\n",
    "plt.xlabel('Empty Lot Classification')\n",
    "plt.ylabel('Frequency')\n",
    "plt.title('Frequency vs. Empty Lot Classification')"
   ]
  },
  {
   "cell_type": "markdown",
   "id": "dc11a4d5",
   "metadata": {},
   "source": [
    "## 6. Engineering New Variables – Part II\n",
    "### Counting of the number of unique values for the addresses:"
   ]
  },
  {
   "cell_type": "code",
   "execution_count": 18,
   "id": "a9211ea7",
   "metadata": {},
   "outputs": [
    {
     "name": "stdout",
     "output_type": "stream",
     "text": [
      "Number of unique addresses: 981\n"
     ]
    }
   ],
   "source": [
    "nunique_address = real_estate_df['street'].nunique()\n",
    "print(f'Number of unique addresses: {nunique_address}')"
   ]
  },
  {
   "cell_type": "markdown",
   "id": "64e53905",
   "metadata": {},
   "source": [
    "- Do you think this variable is useful for analysis or as a feature for a ML model in \n",
    "its current form?\n",
    "  - No, this is because the street feature acts as a unique identifier the vast majority of the time. As such, in its current form this feature cannot be compared across entries to find commonalities that would allow for underlying patterns to be discovered. If this feature was included in a data set used to train a ML model, it would likely contribute to an increase in variance."
   ]
  },
  {
   "cell_type": "markdown",
   "id": "df23515a",
   "metadata": {},
   "source": [
    "### Identifying patterns in street types using the head() command:"
   ]
  },
  {
   "cell_type": "code",
   "execution_count": 19,
   "id": "db0a26c3",
   "metadata": {},
   "outputs": [
    {
     "data": {
      "text/plain": [
       "0                        3526 HIGH ST\n",
       "1                         51 OMAHA CT\n",
       "2                      2796 BRANCH ST\n",
       "3                    2805 JANETTE WAY\n",
       "4                     6001 MCMAHON DR\n",
       "5                  5828 PEPPERMILL CT\n",
       "6                 6048 OGDEN NASH WAY\n",
       "7                       2561 19TH AVE\n",
       "8     11150 TRINITY RIVER DR Unit 114\n",
       "9                        7325 10TH ST\n",
       "10                   645 MORRISON AVE\n",
       "11                      4085 FAWN CIR\n",
       "12                    2930 LA ROSA RD\n",
       "13                      2113 KIRK WAY\n",
       "14                4533 LOCH HAVEN WAY\n",
       "15                     7340 HAMDEN PL\n",
       "16                        6715 6TH ST\n",
       "17            6236 LONGFORD DR Unit 1\n",
       "18                    250 PERALTA AVE\n",
       "19                    113 LEEWILL AVE\n",
       "Name: street, dtype: object"
      ]
     },
     "execution_count": 19,
     "metadata": {},
     "output_type": "execute_result"
    }
   ],
   "source": [
    "real_estate_df['street'].head(20)"
   ]
  },
  {
   "cell_type": "markdown",
   "id": "00efe603",
   "metadata": {},
   "source": [
    "### Writing a function get_street_type(address) that will return the street type (as a String) of an address:"
   ]
  },
  {
   "cell_type": "code",
   "execution_count": 20,
   "id": "9a8d33f8",
   "metadata": {},
   "outputs": [],
   "source": [
    "def get_street_type(address):\n",
    "    non_numeric = re.sub('\\d+', '', address)\n",
    "    clean_address = re.split('Unit| MARTINA', non_numeric)[0]\n",
    "    street_suffix = clean_address.split()[-1]\n",
    "    return street_suffix"
   ]
  },
  {
   "cell_type": "markdown",
   "id": "69d2ee52",
   "metadata": {},
   "source": [
    "### Identifying number of unique street types:"
   ]
  },
  {
   "cell_type": "code",
   "execution_count": 21,
   "id": "7b390436",
   "metadata": {},
   "outputs": [
    {
     "name": "stdout",
     "output_type": "stream",
     "text": [
      "Number of unique street types: 22\n"
     ]
    }
   ],
   "source": [
    "street_types = real_estate_df['street'].map(lambda address: get_street_type(address))\n",
    "unique_streets = street_types.nunique()\n",
    "print(f'Number of unique street types: {unique_streets}')"
   ]
  },
  {
   "cell_type": "markdown",
   "id": "0d9de364",
   "metadata": {},
   "source": [
    "### Adding street suffix column to the DataFrame:"
   ]
  },
  {
   "cell_type": "code",
   "execution_count": 22,
   "id": "e5b7340a",
   "metadata": {},
   "outputs": [],
   "source": [
    "real_estate_df['street_types'] = street_types"
   ]
  },
  {
   "cell_type": "markdown",
   "id": "b1391931",
   "metadata": {},
   "source": [
    "### Plotting the street types as a count plot:"
   ]
  },
  {
   "cell_type": "code",
   "execution_count": 23,
   "id": "63a5f32a",
   "metadata": {},
   "outputs": [
    {
     "data": {
      "text/plain": [
       "Text(0.5, 1.0, 'Frequency vs. Street Type')"
      ]
     },
     "execution_count": 23,
     "metadata": {},
     "output_type": "execute_result"
    },
    {
     "data": {
      "image/png": "[encoded data removed]",
      "text/plain": [
       "<Figure size 432x288 with 1 Axes>"
      ]
     },
     "metadata": {
      "needs_background": "light"
     },
     "output_type": "display_data"
    }
   ],
   "source": [
    "real_estate_df['street_types'].value_counts().plot.bar()\n",
    "plt.xlabel('Street Type')\n",
    "plt.ylabel('Frequency')\n",
    "plt.title('Frequency vs. Street Type')"
   ]
  },
  {
   "cell_type": "markdown",
   "id": "c433a032",
   "metadata": {},
   "source": [
    "## 7. Identifying Potential Dependent Variables"
   ]
  },
  {
   "cell_type": "code",
   "execution_count": 24,
   "id": "4c4e1ab8",
   "metadata": {},
   "outputs": [
    {
     "name": "stdout",
     "output_type": "stream",
     "text": [
      "<class 'pandas.core.frame.DataFrame'>\n",
      "RangeIndex: 985 entries, 0 to 984\n",
      "Data columns (total 14 columns):\n",
      " #   Column        Non-Null Count  Dtype   \n",
      "---  ------        --------------  -----   \n",
      " 0   street        985 non-null    object  \n",
      " 1   city          985 non-null    category\n",
      " 2   zip           985 non-null    category\n",
      " 3   state         985 non-null    category\n",
      " 4   beds          985 non-null    category\n",
      " 5   baths         985 non-null    category\n",
      " 6   sq__ft        985 non-null    int64   \n",
      " 7   type          985 non-null    category\n",
      " 8   sale_date     985 non-null    object  \n",
      " 9   price         985 non-null    int64   \n",
      " 10  latitude      985 non-null    float64 \n",
      " 11  longitude     985 non-null    float64 \n",
      " 12  empty_lot     985 non-null    bool    \n",
      " 13  street_types  985 non-null    object  \n",
      "dtypes: bool(1), category(6), float64(2), int64(2), object(3)\n",
      "memory usage: 65.5+ KB\n"
     ]
    }
   ],
   "source": [
    "real_estate_df.info()"
   ]
  },
  {
   "cell_type": "markdown",
   "id": "63706389",
   "metadata": {},
   "source": [
    "- What types of variables are appropriate for regression?\n",
    "  - The variables that are appropriate for regression are the int and float types. Specifically a good dependent variable for a regression problem would be the predicting the price of the property. This is because a property's price is usually dependent on many of the variables contained in this data set, such as number of beds and baths, the zip code, the square footage, and even the street type.\n",
    "- What types of variables are appropriate for classification?\n",
    "  - The variables that are appropriate for classification are the bool and the category types. Specifically a good dependent variable for a classification problem would be predicting the number of beds a property has. This is because the number of beds could likely be inferred from combining many of the variables from this data set, such as the square footage, the number of baths, the price, and the type of real estate."
   ]
  },
  {
   "cell_type": "markdown",
   "id": "11bcd521",
   "metadata": {},
   "source": [
    "## 8. Identify and remove 2 outlier records from the dataset\n",
    "### Removing properties that have 0 square feet yet also have non-zero values for beds or baths:\n",
    "- These values were deemed to be outliers because intuitively it does not make sense that a building does not have any square footage, but somehow has beds and bathrooms in this void space. "
   ]
  },
  {
   "cell_type": "code",
   "execution_count": 25,
   "id": "b938c237",
   "metadata": {},
   "outputs": [
    {
     "data": {
      "text/html": [
       "<div>\n",
       "<style scoped>\n",
       "    .dataframe tbody tr th:only-of-type {\n",
       "        vertical-align: middle;\n",
       "    }\n",
       "\n",
       "    .dataframe tbody tr th {\n",
       "        vertical-align: top;\n",
       "    }\n",
       "\n",
       "    .dataframe thead th {\n",
       "        text-align: right;\n",
       "    }\n",
       "</style>\n",
       "<table border=\"1\" class=\"dataframe\">\n",
       "  <thead>\n",
       "    <tr style=\"text-align: right;\">\n",
       "      <th></th>\n",
       "      <th>street</th>\n",
       "      <th>city</th>\n",
       "      <th>zip</th>\n",
       "      <th>state</th>\n",
       "      <th>beds</th>\n",
       "      <th>baths</th>\n",
       "      <th>sq__ft</th>\n",
       "      <th>type</th>\n",
       "      <th>sale_date</th>\n",
       "      <th>price</th>\n",
       "      <th>latitude</th>\n",
       "      <th>longitude</th>\n",
       "      <th>empty_lot</th>\n",
       "      <th>street_types</th>\n",
       "    </tr>\n",
       "  </thead>\n",
       "  <tbody>\n",
       "    <tr>\n",
       "      <th>132</th>\n",
       "      <td>3020 RICHARDSON CIR</td>\n",
       "      <td>EL DORADO HILLS</td>\n",
       "      <td>95762</td>\n",
       "      <td>CA</td>\n",
       "      <td>3</td>\n",
       "      <td>2</td>\n",
       "      <td>0</td>\n",
       "      <td>Residential</td>\n",
       "      <td>Wed May 21 00:00:00 EDT 2008</td>\n",
       "      <td>352000</td>\n",
       "      <td>38.691299</td>\n",
       "      <td>-121.081752</td>\n",
       "      <td>True</td>\n",
       "      <td>CIR</td>\n",
       "    </tr>\n",
       "    <tr>\n",
       "      <th>154</th>\n",
       "      <td>6030 PALERMO WAY</td>\n",
       "      <td>EL DORADO HILLS</td>\n",
       "      <td>95762</td>\n",
       "      <td>CA</td>\n",
       "      <td>4</td>\n",
       "      <td>3</td>\n",
       "      <td>0</td>\n",
       "      <td>Residential</td>\n",
       "      <td>Wed May 21 00:00:00 EDT 2008</td>\n",
       "      <td>600000</td>\n",
       "      <td>38.672761</td>\n",
       "      <td>-121.050378</td>\n",
       "      <td>True</td>\n",
       "      <td>WAY</td>\n",
       "    </tr>\n",
       "    <tr>\n",
       "      <th>155</th>\n",
       "      <td>4070 REDONDO DR</td>\n",
       "      <td>EL DORADO HILLS</td>\n",
       "      <td>95762</td>\n",
       "      <td>CA</td>\n",
       "      <td>4</td>\n",
       "      <td>3</td>\n",
       "      <td>0</td>\n",
       "      <td>Residential</td>\n",
       "      <td>Wed May 21 00:00:00 EDT 2008</td>\n",
       "      <td>606238</td>\n",
       "      <td>38.666807</td>\n",
       "      <td>-121.064830</td>\n",
       "      <td>True</td>\n",
       "      <td>DR</td>\n",
       "    </tr>\n",
       "    <tr>\n",
       "      <th>157</th>\n",
       "      <td>315 JUMEL CT</td>\n",
       "      <td>EL DORADO HILLS</td>\n",
       "      <td>95762</td>\n",
       "      <td>CA</td>\n",
       "      <td>6</td>\n",
       "      <td>5</td>\n",
       "      <td>0</td>\n",
       "      <td>Residential</td>\n",
       "      <td>Wed May 21 00:00:00 EDT 2008</td>\n",
       "      <td>830000</td>\n",
       "      <td>38.669931</td>\n",
       "      <td>-121.059580</td>\n",
       "      <td>True</td>\n",
       "      <td>CT</td>\n",
       "    </tr>\n",
       "    <tr>\n",
       "      <th>223</th>\n",
       "      <td>2778 KAWEAH CT</td>\n",
       "      <td>CAMERON PARK</td>\n",
       "      <td>95682</td>\n",
       "      <td>CA</td>\n",
       "      <td>3</td>\n",
       "      <td>1</td>\n",
       "      <td>0</td>\n",
       "      <td>Residential</td>\n",
       "      <td>Tue May 20 00:00:00 EDT 2008</td>\n",
       "      <td>201000</td>\n",
       "      <td>38.694052</td>\n",
       "      <td>-120.995589</td>\n",
       "      <td>True</td>\n",
       "      <td>CT</td>\n",
       "    </tr>\n",
       "  </tbody>\n",
       "</table>\n",
       "</div>"
      ],
      "text/plain": [
       "                  street             city    zip state beds baths  sq__ft  \\\n",
       "132  3020 RICHARDSON CIR  EL DORADO HILLS  95762    CA    3     2       0   \n",
       "154     6030 PALERMO WAY  EL DORADO HILLS  95762    CA    4     3       0   \n",
       "155      4070 REDONDO DR  EL DORADO HILLS  95762    CA    4     3       0   \n",
       "157         315 JUMEL CT  EL DORADO HILLS  95762    CA    6     5       0   \n",
       "223       2778 KAWEAH CT     CAMERON PARK  95682    CA    3     1       0   \n",
       "\n",
       "            type                     sale_date   price   latitude   longitude  \\\n",
       "132  Residential  Wed May 21 00:00:00 EDT 2008  352000  38.691299 -121.081752   \n",
       "154  Residential  Wed May 21 00:00:00 EDT 2008  600000  38.672761 -121.050378   \n",
       "155  Residential  Wed May 21 00:00:00 EDT 2008  606238  38.666807 -121.064830   \n",
       "157  Residential  Wed May 21 00:00:00 EDT 2008  830000  38.669931 -121.059580   \n",
       "223  Residential  Tue May 20 00:00:00 EDT 2008  201000  38.694052 -120.995589   \n",
       "\n",
       "     empty_lot street_types  \n",
       "132       True          CIR  \n",
       "154       True          WAY  \n",
       "155       True           DR  \n",
       "157       True           CT  \n",
       "223       True           CT  "
      ]
     },
     "execution_count": 25,
     "metadata": {},
     "output_type": "execute_result"
    }
   ],
   "source": [
    "zero_sq_ft = real_estate_df.query('sq__ft == 0 & (beds != 0 | baths != 0)')\n",
    "zero_sq_ft.head()"
   ]
  },
  {
   "cell_type": "code",
   "execution_count": 26,
   "id": "b37aae14",
   "metadata": {},
   "outputs": [
    {
     "data": {
      "text/plain": [
       "street          922\n",
       "city            922\n",
       "zip             922\n",
       "state           922\n",
       "beds            922\n",
       "baths           922\n",
       "sq__ft          922\n",
       "type            922\n",
       "sale_date       922\n",
       "price           922\n",
       "latitude        922\n",
       "longitude       922\n",
       "empty_lot       922\n",
       "street_types    922\n",
       "dtype: int64"
      ]
     },
     "execution_count": 26,
     "metadata": {},
     "output_type": "execute_result"
    }
   ],
   "source": [
    "real_estate_df = real_estate_df.drop(zero_sq_ft.index)\n",
    "real_estate_df.count()"
   ]
  },
  {
   "cell_type": "markdown",
   "id": "73eb220e",
   "metadata": {},
   "source": [
    "## 9. Saving the Cleaned Data Set"
   ]
  },
  {
   "cell_type": "code",
   "execution_count": 27,
   "id": "e5a8888b",
   "metadata": {},
   "outputs": [],
   "source": [
    "real_estate_df.to_csv('CleanedSacramentorealestatetransactions.csv')"
   ]
  },
  {
   "cell_type": "markdown",
   "id": "d7f1620d",
   "metadata": {},
   "source": [
    "---\n",
    "---\n",
    "## Conclusion:\n",
    "- This lab acted as an exercise in using Pandas to interpret and clean a provided data set. Through the use of Pandas, it was discovered that the *Sacramentorealestatetransactions* data set, contained mostly clean, usable data. Through problem space knowledge several of the inferred types of variables were changed to better represent the underlying data. In addition, new variables were added to the data set that were engineered from existing variables to better describe real estate transactions. Lastly, Pandas were used to identify outliers in the data set, which were removed to reduce any bias they may have introduced. The result of this lab was a DataFrame that represented a cleaned and optimized version of the original data set, that was exported to the *CleanedSacramentorealestatetransactions* .csv file."
   ]
  }
 ],
 "metadata": {
  "kernelspec": {
   "display_name": "Python 3",
   "language": "python",
   "name": "python3"
  },
  "language_info": {
   "codemirror_mode": {
    "name": "ipython",
    "version": 3
   },
   "file_extension": ".py",
   "mimetype": "text/x-python",
   "name": "python",
   "nbconvert_exporter": "python",
   "pygments_lexer": "ipython3",
   "version": "3.8.8"
  }
 },
 "nbformat": 4,
 "nbformat_minor": 5
}
