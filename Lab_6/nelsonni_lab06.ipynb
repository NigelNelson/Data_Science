{
 "cells": [
  {
   "cell_type": "markdown",
   "metadata": {},
   "source": [
    "# Lab 06: Exploratory Data Analysis (EDA) with Clustering\n",
    "### Author: Nigel Nelson\n",
    "## Introduction:\n",
    "- This lab acts as an exercise in using clustering techniques in order to aid in the exploratory data analysis of a data set comprised of emails that are labeled as spam, or ham. This data set contains 65,542 emails, all of which are stored as separate JSON files stored in a central directory. Each one of these email JSON files contains 5 features, the category describing if the email was spam or not, the email address of the recipient, the email address of the sender, the subject line of the email, and the body of the email. Students are tasked with converting this data to a Pandas DataFrame for easier manipulation. Next, this DataFrame is converted into a binary feature matrix for each email and each vocabulary word that appears in the email data set, where a 1 indicates that the email contains a given word and a 0 indicates the word is not contained in the email. Following this, a second feature matrix is created from the binary feature matrix using SVD to distill all of the information of the native emails into 10 columns/components. The two most predictive of these components are then clustered into groups by a clustering algorithm chosen from the available Scikit Learn algorithms. The calculated clusters are then visually depicted using plotting libraries to evaluate if the groups formed make logical sense given domain knowledge of the underlying data set. These clustered groups are further analyzed using a confusion matrix to determine if the calculated clusters were able to correctly distinguish spam vs. ham emails. Next, the vocabulary of the two clusters are statistically analyzed using binomial tests to determine which words appear more in one cluster than the other at a statistically significant p-value. Finally, the two clusters are analyzed by reviewing the corresponding data set entries to determine if information such as the subject line, recipient, and sender can lend more information as to what trends the clustering algorithm may be grouping by.\n",
    "---\n",
    "### Imports:"
   ]
  },
  {
   "cell_type": "code",
   "execution_count": 1,
   "metadata": {},
   "outputs": [],
   "source": [
    "import pandas as pd\n",
    "import numpy as np\n",
    "import seaborn as sns\n",
    "from sklearn.feature_extraction.text import CountVectorizer\n",
    "from sklearn.decomposition import TruncatedSVD\n",
    "from scipy.sparse import csr_matrix\n",
    "import matplotlib.pyplot as plt\n",
    "import glob\n",
    "import os\n",
    "import json\n",
    "from sklearn.cluster import DBSCAN\n",
    "from sklearn.metrics import confusion_matrix\n",
    "from scipy.sparse import csc_matrix\n",
    "from scipy import stats"
   ]
  },
  {
   "cell_type": "markdown",
   "metadata": {},
   "source": [
    "## Part I: Load and Transform the Data\n",
    "### Loading in the Email Data Set:"
   ]
  },
  {
   "cell_type": "code",
   "execution_count": 2,
   "metadata": {},
   "outputs": [],
   "source": [
    "email_dicts = []\n",
    "json_dir_name = 'email_json/email_json/email_json/email_json'\n",
    "\n",
    "json_pattern = os.path.join(json_dir_name, '*.json')\n",
    "file_list = glob.glob(json_pattern)\n",
    "\n",
    "for file in file_list:\n",
    "    with open(file) as json_file:\n",
    "        dict_data = json.load(json_file)\n",
    "        email_dicts.append(dict_data)"
   ]
  },
  {
   "cell_type": "markdown",
   "metadata": {},
   "source": [
    "### Creating an Emails DataFrame:"
   ]
  },
  {
   "cell_type": "code",
   "execution_count": 3,
   "metadata": {},
   "outputs": [
    {
     "data": {
      "text/html": [
       "<div>\n",
       "<style scoped>\n",
       "    .dataframe tbody tr th:only-of-type {\n",
       "        vertical-align: middle;\n",
       "    }\n",
       "\n",
       "    .dataframe tbody tr th {\n",
       "        vertical-align: top;\n",
       "    }\n",
       "\n",
       "    .dataframe thead th {\n",
       "        text-align: right;\n",
       "    }\n",
       "</style>\n",
       "<table border=\"1\" class=\"dataframe\">\n",
       "  <thead>\n",
       "    <tr style=\"text-align: right;\">\n",
       "      <th></th>\n",
       "      <th>body</th>\n",
       "      <th>category</th>\n",
       "      <th>from_address</th>\n",
       "      <th>subject</th>\n",
       "      <th>to_address</th>\n",
       "    </tr>\n",
       "  </thead>\n",
       "  <tbody>\n",
       "    <tr>\n",
       "      <th>0</th>\n",
       "      <td>\\n\\n\\n\\n\\n\\n\\nDo you feel the pressure to perf...</td>\n",
       "      <td>spam</td>\n",
       "      <td>\"Tomas Jacobs\" &lt;RickyAmes@aol.com&gt;</td>\n",
       "      <td>Generic Cialis, branded quality@</td>\n",
       "      <td>the00@speedy.uwaterloo.ca</td>\n",
       "    </tr>\n",
       "    <tr>\n",
       "      <th>1</th>\n",
       "      <td>Hi, i've just updated from the gulus and I che...</td>\n",
       "      <td>ham</td>\n",
       "      <td>Yan Morin &lt;yan.morin@savoirfairelinux.com&gt;</td>\n",
       "      <td>Typo in /debian/README</td>\n",
       "      <td>debian-mirrors@lists.debian.org</td>\n",
       "    </tr>\n",
       "    <tr>\n",
       "      <th>2</th>\n",
       "      <td>authentic viagra\\n\\nMega  authenticV I A G R A...</td>\n",
       "      <td>spam</td>\n",
       "      <td>\"Sheila Crenshaw\" &lt;7stocknews@tractionmarketin...</td>\n",
       "      <td>authentic viagra</td>\n",
       "      <td>&lt;the00@plg.uwaterloo.ca&gt;</td>\n",
       "    </tr>\n",
       "    <tr>\n",
       "      <th>3</th>\n",
       "      <td>\\nHey Billy, \\n\\nit was really fun going out t...</td>\n",
       "      <td>spam</td>\n",
       "      <td>\"Stormy Dempsey\" &lt;vqucsmdfgvsg@ruraltek.com&gt;</td>\n",
       "      <td>Nice talking with ya</td>\n",
       "      <td>opt4@speedy.uwaterloo.ca</td>\n",
       "    </tr>\n",
       "    <tr>\n",
       "      <th>4</th>\n",
       "      <td>\\n\\n\\n\\n\\n\\n\\nsystem\" of the home.  It will ha...</td>\n",
       "      <td>spam</td>\n",
       "      <td>\"Christi T. Jernigan\" &lt;dcube@totalink.net&gt;</td>\n",
       "      <td>or trembling; stomach cramps; trouble in sleep...</td>\n",
       "      <td>ktwarwic@speedy.uwaterloo.ca</td>\n",
       "    </tr>\n",
       "  </tbody>\n",
       "</table>\n",
       "</div>"
      ],
      "text/plain": [
       "                                                body category  \\\n",
       "0  \\n\\n\\n\\n\\n\\n\\nDo you feel the pressure to perf...     spam   \n",
       "1  Hi, i've just updated from the gulus and I che...      ham   \n",
       "2  authentic viagra\\n\\nMega  authenticV I A G R A...     spam   \n",
       "3  \\nHey Billy, \\n\\nit was really fun going out t...     spam   \n",
       "4  \\n\\n\\n\\n\\n\\n\\nsystem\" of the home.  It will ha...     spam   \n",
       "\n",
       "                                        from_address  \\\n",
       "0                 \"Tomas Jacobs\" <RickyAmes@aol.com>   \n",
       "1         Yan Morin <yan.morin@savoirfairelinux.com>   \n",
       "2  \"Sheila Crenshaw\" <7stocknews@tractionmarketin...   \n",
       "3       \"Stormy Dempsey\" <vqucsmdfgvsg@ruraltek.com>   \n",
       "4         \"Christi T. Jernigan\" <dcube@totalink.net>   \n",
       "\n",
       "                                             subject  \\\n",
       "0                  Generic Cialis, branded quality@    \n",
       "1                             Typo in /debian/README   \n",
       "2                                   authentic viagra   \n",
       "3                               Nice talking with ya   \n",
       "4  or trembling; stomach cramps; trouble in sleep...   \n",
       "\n",
       "                        to_address  \n",
       "0        the00@speedy.uwaterloo.ca  \n",
       "1  debian-mirrors@lists.debian.org  \n",
       "2         <the00@plg.uwaterloo.ca>  \n",
       "3         opt4@speedy.uwaterloo.ca  \n",
       "4     ktwarwic@speedy.uwaterloo.ca  "
      ]
     },
     "execution_count": 3,
     "metadata": {},
     "output_type": "execute_result"
    }
   ],
   "source": [
    "email_df = pd.DataFrame.from_dict(email_dicts)\n",
    "email_df['category'] = email_df['category'].astype('category')\n",
    "email_df.head()"
   ]
  },
  {
   "cell_type": "code",
   "execution_count": 4,
   "metadata": {},
   "outputs": [
    {
     "name": "stdout",
     "output_type": "stream",
     "text": [
      "<class 'pandas.core.frame.DataFrame'>\n",
      "RangeIndex: 63542 entries, 0 to 63541\n",
      "Data columns (total 5 columns):\n",
      "body            63542 non-null object\n",
      "category        63542 non-null category\n",
      "from_address    63542 non-null object\n",
      "subject         63410 non-null object\n",
      "to_address      63141 non-null object\n",
      "dtypes: category(1), object(4)\n",
      "memory usage: 2.0+ MB\n"
     ]
    }
   ],
   "source": [
    "email_df.info()"
   ]
  },
  {
   "cell_type": "markdown",
   "metadata": {},
   "source": [
    "### Using Scikit Learn's to Create Feature Matrix:"
   ]
  },
  {
   "cell_type": "code",
   "execution_count": 5,
   "metadata": {},
   "outputs": [],
   "source": [
    "vectorizer = CountVectorizer(binary=True, min_df=10)\n",
    "feat_matrix = vectorizer.fit_transform(email_df['body'])"
   ]
  },
  {
   "cell_type": "code",
   "execution_count": 6,
   "metadata": {},
   "outputs": [
    {
     "name": "stdout",
     "output_type": "stream",
     "text": [
      "Feature matrix # columns: 32144\n",
      "Feature matrix # rows: 63542\n",
      "Feature matrix # nonzero entries: 6388795\n"
     ]
    }
   ],
   "source": [
    "print(f'Feature matrix # columns: {feat_matrix.shape[1]}')\n",
    "print(f'Feature matrix # rows: {feat_matrix.shape[0]}')\n",
    "print(f'Feature matrix # nonzero entries: {csr_matrix.count_nonzero(feat_matrix)}')"
   ]
  },
  {
   "cell_type": "markdown",
   "metadata": {},
   "source": [
    "## Part II: Cluster the Emails\n",
    "### Using Scikit Learn's TruncatedSVD to Create Feature Matrix with Top 2 Variables/Components:"
   ]
  },
  {
   "cell_type": "code",
   "execution_count": 7,
   "metadata": {},
   "outputs": [
    {
     "data": {
      "text/plain": [
       "(63542, 2)"
      ]
     },
     "execution_count": 7,
     "metadata": {},
     "output_type": "execute_result"
    }
   ],
   "source": [
    "svd = TruncatedSVD(n_components=10, random_state=17)\n",
    "svd_matrix = svd.fit_transform(feat_matrix)\n",
    "\n",
    "top_components = np.vstack((svd_matrix[:,0], svd_matrix[:,1])).T\n",
    "top_components.shape"
   ]
  },
  {
   "cell_type": "markdown",
   "metadata": {},
   "source": [
    "### Clustering Emails Using DBSCAN:\n",
    "- DBSCAN was chosen to cluster this data set for several reasons. The first is that DBSCAN is capable of clustering non-flat geometry, and uneven cluster sizes, which are important characteristics to clustering this data set after visualizing the same collection of emails in lab 5. In addition, DBSCAN is able to label data points as outliers. This is important to this data set because it is likely there are some emails that are empty, contain extremely long messages, or have other attributes that could add noise to the proper separation of spam emails from ham emails."
   ]
  },
  {
   "cell_type": "code",
   "execution_count": 8,
   "metadata": {},
   "outputs": [
    {
     "name": "stdout",
     "output_type": "stream",
     "text": [
      "Set of class labels produced: {0, 1, -1}\n"
     ]
    }
   ],
   "source": [
    "clustering = DBSCAN(eps=0.5, min_samples=10).fit(top_components)\n",
    "print(f'Set of class labels produced: {set(clustering.labels_)}')"
   ]
  },
  {
   "cell_type": "code",
   "execution_count": 9,
   "metadata": {},
   "outputs": [],
   "source": [
    "def label_to_string(label):\n",
    "    if label == -1:\n",
    "        return 'Noise'\n",
    "    elif label == 0:\n",
    "        return 'Cluster 0'\n",
    "    else:\n",
    "        return 'Cluster 1'\n",
    "\n",
    "clusters = pd.Series(clustering.labels_)\n",
    "cluster_labels = clusters.apply(label_to_string)"
   ]
  },
  {
   "cell_type": "markdown",
   "metadata": {},
   "source": [
    "### Plotting the Clusters Found with DBSCAN:"
   ]
  },
  {
   "cell_type": "code",
   "execution_count": 10,
   "metadata": {},
   "outputs": [
    {
     "data": {
      "text/plain": [
       "Text(0.5, 1.0, '2nd vs. 1st Highest Explained Variance Components')"
      ]
     },
     "execution_count": 10,
     "metadata": {},
     "output_type": "execute_result"
    },
    {
     "data": {
      "image/png": "[encoded data removed]",
      "text/plain": [
       "<Figure size 432x288 with 1 Axes>"
      ]
     },
     "metadata": {
      "needs_background": "light"
     },
     "output_type": "display_data"
    }
   ],
   "source": [
    "sns.scatterplot(x=svd_matrix[:,0], y=svd_matrix[:,1], hue=cluster_labels)\n",
    "plt.ylabel('2nd Highest Explained Variance Component', fontsize=10)\n",
    "plt.xlabel('1st Highest Explained Variance Component', fontsize=10)\n",
    "plt.title('2nd vs. 1st Highest Explained Variance Components', fontsize=15)"
   ]
  },
  {
   "cell_type": "markdown",
   "metadata": {},
   "source": [
    "### Creating Confusion Matrix for Clusters vs. Data Set Spam Labels:"
   ]
  },
  {
   "cell_type": "code",
   "execution_count": 11,
   "metadata": {},
   "outputs": [],
   "source": [
    "def create_spam_labels(label):\n",
    "    if label == -1:\n",
    "        return 'noise'\n",
    "    elif label == 0:\n",
    "        return 'spam'\n",
    "    else:\n",
    "        return 'ham'\n",
    "\n",
    "spam_labels = clusters.apply(create_spam_labels)"
   ]
  },
  {
   "cell_type": "code",
   "execution_count": 12,
   "metadata": {},
   "outputs": [
    {
     "data": {
      "text/plain": [
       "Text(0.5, 1, 'Confusion Matrix for True Labels vs. Cluster Labels')"
      ]
     },
     "execution_count": 12,
     "metadata": {},
     "output_type": "execute_result"
    },
    {
     "data": {
      "image/png": "[encoded data removed]",
      "text/plain": [
       "<Figure size 432x288 with 2 Axes>"
      ]
     },
     "metadata": {
      "needs_background": "light"
     },
     "output_type": "display_data"
    }
   ],
   "source": [
    "x = confusion_matrix(email_df['category'], spam_labels)\n",
    "sns.heatmap(x, annot=True, fmt='g')\n",
    "plt.yticks(np.arange(.5, 3.5, step=1), labels= ['ham', 'noise', 'spam'])\n",
    "plt.xticks(np.arange(.5, 3.5, step=1), labels= ['ham', 'noise', 'spam'])\n",
    "plt.ylabel('True Label', fontsize=10)\n",
    "plt.xlabel('Predicted Label', fontsize=10)\n",
    "plt.title('Confusion Matrix for True Labels vs. Cluster Labels', fontsize=15)"
   ]
  },
  {
   "cell_type": "markdown",
   "metadata": {},
   "source": [
    "## Part III: Calculating Document Frequencies of Words"
   ]
  },
  {
   "cell_type": "markdown",
   "metadata": {},
   "source": [
    "### Removing Emails that were Labeled as Noise:\n",
    "- The DBSCAN clustering algorithm labeled 52 emails as noise. This means that it was unable to place these emails into one of the two clusterers, meaning it didn't share enough sinmilarity with either to be considered apart of the cluster. In order to remove bias that these outliers may introduce, these noisey data points are removed from any further analysis."
   ]
  },
  {
   "cell_type": "code",
   "execution_count": 13,
   "metadata": {
    "scrolled": true
   },
   "outputs": [
    {
     "name": "stdout",
     "output_type": "stream",
     "text": [
      "<class 'pandas.core.frame.DataFrame'>\n",
      "Int64Index: 63490 entries, 0 to 63541\n",
      "Data columns (total 5 columns):\n",
      "body            63490 non-null object\n",
      "category        63490 non-null category\n",
      "from_address    63490 non-null object\n",
      "subject         63358 non-null object\n",
      "to_address      63089 non-null object\n",
      "dtypes: category(1), object(4)\n",
      "memory usage: 2.5+ MB\n"
     ]
    }
   ],
   "source": [
    "cleaned_df = email_df[spam_labels != 'noise']\n",
    "cleaned_df.info()"
   ]
  },
  {
   "cell_type": "markdown",
   "metadata": {},
   "source": [
    "### Creating Separate Matrices for each Cluster:"
   ]
  },
  {
   "cell_type": "code",
   "execution_count": 14,
   "metadata": {},
   "outputs": [],
   "source": [
    "cluster0_df = feat_matrix[(spam_labels == 'spam').values]\n",
    "cluster1_df = feat_matrix[(spam_labels == 'ham').values]"
   ]
  },
  {
   "cell_type": "markdown",
   "metadata": {},
   "source": [
    "### Converting the Matrices to CSC Format:"
   ]
  },
  {
   "cell_type": "code",
   "execution_count": 15,
   "metadata": {},
   "outputs": [],
   "source": [
    "cluster0_matrix = csc_matrix(cluster0_df)\n",
    "cluster1_matrix = csc_matrix(cluster1_df)"
   ]
  },
  {
   "cell_type": "markdown",
   "metadata": {},
   "source": [
    "### Getting Document Frequency of each Word:"
   ]
  },
  {
   "cell_type": "code",
   "execution_count": 16,
   "metadata": {},
   "outputs": [
    {
     "data": {
      "text/plain": [
       "(1, 32144)"
      ]
     },
     "execution_count": 16,
     "metadata": {},
     "output_type": "execute_result"
    }
   ],
   "source": [
    "c0_doc_freq = cluster0_matrix.sum(0)\n",
    "c1_doc_freq = cluster1_matrix.sum(0)\n",
    "\n",
    "c1_doc_freq.shape"
   ]
  },
  {
   "cell_type": "markdown",
   "metadata": {},
   "source": [
    "### Document Frequencies of \"love\", \"works\", and \"different\":"
   ]
  },
  {
   "cell_type": "code",
   "execution_count": 17,
   "metadata": {},
   "outputs": [
    {
     "name": "stdout",
     "output_type": "stream",
     "text": [
      "Frequency of \"love\" in cluster 0 emails: 2012\n",
      "Frequency of \"works\" in cluster 0 emails: 2361\n",
      "Frequency of \"different\" in cluster 0 emails: 2083\n",
      "\n",
      "Frequency of \"love\" in cluster 1 emails: 23\n",
      "Frequency of \"works\" in cluster 1 emails: 628\n",
      "Frequency of \"different\" in cluster 1 emails: 776\n"
     ]
    }
   ],
   "source": [
    "love_idx = vectorizer.vocabulary_.get('love')\n",
    "works_idx = vectorizer.vocabulary_.get('works')\n",
    "diff_idx = vectorizer.vocabulary_.get('different')\n",
    "\n",
    "print(f'Frequency of \"love\" in cluster 0 emails: {c0_doc_freq[0, love_idx]}')\n",
    "print(f'Frequency of \"works\" in cluster 0 emails: {c0_doc_freq[0, works_idx]}')\n",
    "print(f'Frequency of \"different\" in cluster 0 emails: {c0_doc_freq[0, diff_idx]}')\n",
    "print()\n",
    "print(f'Frequency of \"love\" in cluster 1 emails: {c1_doc_freq[0, love_idx]}')\n",
    "print(f'Frequency of \"works\" in cluster 1 emails: {c1_doc_freq[0, works_idx]}')\n",
    "print(f'Frequency of \"different\" in cluster 1 emails: {c1_doc_freq[0, diff_idx]}')"
   ]
  },
  {
   "cell_type": "markdown",
   "metadata": {},
   "source": [
    "## Part IV: Find Enriched Words with Statistical Testing\n",
    "### Testing if the Words \"works\" and \"love\" are Enriched in Cluster 1"
   ]
  },
  {
   "cell_type": "code",
   "execution_count": 18,
   "metadata": {},
   "outputs": [
    {
     "name": "stdout",
     "output_type": "stream",
     "text": [
      "Expected probabilty of \"works\" appearing in cluster 0: 0.04090790955557481\n",
      "Observed probabilty of \"works\" appearing in cluster 1: 0.10874458874458874\n",
      "Binomial test p-value: 0.9999999999999999\n"
     ]
    }
   ],
   "source": [
    "cluster_0_expected_prob = c0_doc_freq[0, works_idx] / cluster0_df.shape[0]\n",
    "cluster_1_expected_prob = c1_doc_freq[0, works_idx] / cluster1_df.shape[0]\n",
    "pvalue = stats.binom_test(c0_doc_freq[0, works_idx], cluster0_df.shape[0],\n",
    "cluster_1_expected_prob, alternative=\"greater\")\n",
    "print(f'Expected probabilty of \"works\" appearing in cluster 0: {cluster_0_expected_prob}')\n",
    "print(f'Observed probabilty of \"works\" appearing in cluster 1: {cluster_1_expected_prob}')\n",
    "print(f'Binomial test p-value: {pvalue}')"
   ]
  },
  {
   "cell_type": "markdown",
   "metadata": {},
   "source": [
    "- Interpretation: The observed frequency of the word \"works\" for cluster 0 is NOT greater than the frequency for cluster 1"
   ]
  },
  {
   "cell_type": "code",
   "execution_count": 19,
   "metadata": {},
   "outputs": [
    {
     "name": "stdout",
     "output_type": "stream",
     "text": [
      "Expected probabilty of \"love\" appearing in cluster 0: 0.034860954691154813\n",
      "Observed probabilty of \"love\" appearing in cluster 1: 0.003982683982683983\n",
      "Binomial test p-value: 0.0\n"
     ]
    }
   ],
   "source": [
    "cluster_0_expected_prob = c0_doc_freq[0, love_idx] / cluster0_df.shape[0]\n",
    "cluster_1_expected_prob = c1_doc_freq[0, love_idx] / cluster1_df.shape[0]\n",
    "pvalue = stats.binom_test(c0_doc_freq[0, love_idx], cluster0_df.shape[0],\n",
    "cluster_1_expected_prob, alternative=\"greater\")\n",
    "print(f'Expected probabilty of \"love\" appearing in cluster 0: {cluster_0_expected_prob}')\n",
    "print(f'Observed probabilty of \"love\" appearing in cluster 1: {cluster_1_expected_prob}')\n",
    "print(f'Binomial test p-value: {pvalue}')"
   ]
  },
  {
   "cell_type": "markdown",
   "metadata": {},
   "source": [
    "- Interpretation: The observed frequency of the word \"love\" for cluster 0 is greater than the frequency for cluster 1"
   ]
  },
  {
   "cell_type": "markdown",
   "metadata": {},
   "source": [
    "### Iterating Over all Vocab in the Emails to Find Enriched Words for Cluster 0:\n",
    "- Note: A p-value of 0.05 is used to determine if the word's frequency is statistically significant between the two clusters"
   ]
  },
  {
   "cell_type": "code",
   "execution_count": 20,
   "metadata": {},
   "outputs": [],
   "source": [
    "def find_enriched_words(cluster_tested, num_emails_tested,\n",
    "                        cluster_compared, num_emails_compared, word, word_idx):\n",
    "    compared_expected_prob = cluster_compared[0, word_idx] / num_emails_compared\n",
    "    pvalue = stats.binom_test(cluster_tested[0, word_idx], num_emails_tested,\n",
    "    compared_expected_prob, alternative=\"greater\")\n",
    "    return pvalue, word, cluster_tested[0, word_idx]"
   ]
  },
  {
   "cell_type": "code",
   "execution_count": 21,
   "metadata": {},
   "outputs": [],
   "source": [
    "c0_significant_vocab = []\n",
    "\n",
    "for word, word_idx in vectorizer.vocabulary_.items():\n",
    "    pvalue, word, c0_word_freq = find_enriched_words(c0_doc_freq, cluster0_df.shape[0],\n",
    "                                                     c1_doc_freq, cluster1_df.shape[0],\n",
    "                                                    word, word_idx)\n",
    "    if pvalue < 0.05:\n",
    "        c0_significant_vocab.append((pvalue, word, c0_word_freq)) "
   ]
  },
  {
   "cell_type": "markdown",
   "metadata": {},
   "source": [
    "### Filtering Out Non-Alphabetic Vocabulary:"
   ]
  },
  {
   "cell_type": "code",
   "execution_count": 22,
   "metadata": {},
   "outputs": [
    {
     "name": "stdout",
     "output_type": "stream",
     "text": [
      "Length of enriched word for cluster 0 before filtering: 23977\n",
      "Length of enriched word for cluster 0 after filtering: 20300\n"
     ]
    }
   ],
   "source": [
    "print(f'Length of enriched word for cluster 0 before filtering: {len(c0_significant_vocab)}')\n",
    "\n",
    "cleaned_c0_significant_vocab = []\n",
    "\n",
    "for  pvalue, word, c0_word_freq in c0_significant_vocab:\n",
    "    if word.isalpha():\n",
    "        cleaned_c0_significant_vocab.append((pvalue, word, c0_word_freq))\n",
    "\n",
    "print(f'Length of enriched word for cluster 0 after filtering: {len(cleaned_c0_significant_vocab)}')"
   ]
  },
  {
   "cell_type": "code",
   "execution_count": 23,
   "metadata": {},
   "outputs": [
    {
     "name": "stdout",
     "output_type": "stream",
     "text": [
      "[(0.0, 'your', 25822), (0.0, 'we', 17259), (0.0, 'here', 13601), (0.0, 'our', 13368), (0.0, 'up', 10841), (0.0, 'us', 9444), (0.0, 'day', 8353), (0.0, 'click', 7697), (0.0, 'their', 7415), (0.0, 'unsubscribe', 7378), (0.0, 'most', 7144), (0.0, 'price', 7069), (0.0, 'over', 6912), (0.0, 'who', 6851), (0.0, 'he', 6800), (0.0, 'online', 6781), (0.0, 'news', 5992), (0.0, 'buy', 5842), (0.0, 'said', 5574), (0.0, 'free', 5570), (0.0, 'his', 5546), (0.0, 'money', 5381), (0.0, 'visit', 5325), (0.0, 'high', 5261), (0.0, 'contact', 5235), (0.0, 'ca', 5225), (0.0, 'service', 5223), (0.0, 'life', 4832), (0.0, 'world', 4784), (0.0, 'site', 4708), (0.0, 'viagra', 4675), (0.0, 'quality', 4674), (0.0, 'low', 4404), (0.0, 'every', 4401), (0.0, 'business', 4185), (0.0, 'net', 4185), (0.0, 'men', 4128), (0.0, 'today', 4105), (0.0, 'home', 4075), (0.0, 'special', 4063), (0.0, 'her', 4005), (0.0, 'company', 3980), (0.0, 'week', 3966), (0.0, 'she', 3672), (0.0, 'great', 3642), (0.0, 'full', 3553), (0.0, 'top', 3549), (0.0, 'receive', 3482), (0.0, 'alert', 3474), (0.0, 'inc', 3464), (0.0, 'offer', 3394), (0.0, 'never', 3376), (0.0, 'learn', 3375), (0.0, 'samba', 3343), (0.0, 'rights', 3331), (0.0, 'ready', 3323), (0.0, 'man', 3308), (0.0, 'fast', 3306), (0.0, 'revision', 3262), (0.0, 'additional', 3216), (0.0, 'uwaterloo', 3214), (0.0, 'cialis', 3181), (0.0, 'product', 3164), (0.0, 'him', 3051), (0.0, 'support', 3028), (0.0, 'products', 2986), (0.0, 'prices', 2960), (0.0, 'send', 2948), (0.0, 'hk', 2932), (0.0, 'yourself', 2927), (0.0, 'perl', 2890), (0.0, 'reserved', 2855), (0.0, 'root', 2808), (0.0, 'store', 2804), (0.0, 'customer', 2801), (0.0, 'pills', 2779), (0.0, 'modified', 2716), (0.0, 'speedy', 2671), (0.0, 'target', 2644), (0.0, 'ever', 2632), (0.0, 'safe', 2603), (0.0, 'hours', 2601), (0.0, 'office', 2580), (0.0, 'watch', 2578), (0.0, 'author', 2574), (0.0, 'privacy', 2556), (0.0, 'future', 2531), (0.0, 'request', 2523), (0.0, 'rev', 2451), (0.0, 'cgi', 2429), (0.0, 'stop', 2396), (0.0, 'yours', 2365), (0.0, 'internet', 2360), (0.0, 'account', 2351), (0.0, 'suite', 2347), (0.0, 'offers', 2338), (0.0, 'lowest', 2337), (0.0, 'branches', 2330), (0.0, 'generic', 2257), (0.0, 'away', 2255), (0.0, 'shop', 2254), (0.0, 'delivery', 2250), (0.0, 'canadian', 2234), (0.0, 'join', 2233), (0.0, 'months', 2215), (0.0, 'daily', 2214), (0.0, 'pay', 2209), (0.0, 'pharmacy', 2192), (0.0, 'network', 2169), (0.0, 'team', 2161), (0.0, 'half', 2151), (0.0, 'feel', 2135), (0.0, 'services', 2134), (0.0, 'night', 2133), (0.0, 'worldwide', 2105), (0.0, 'chance', 2091), (0.0, 'subscribed', 2082), (0.0, 'forward', 2072), (0.0, 'credit', 2054), (0.0, 'beginners', 2053), (0.0, 'customers', 2050), (0.0, 'united', 2044), (0.0, 'effective', 2038), (0.0, 'country', 2038), (0.0, 'millions', 2037), (0.0, 'copyright', 2036), (0.0, 'minutes', 2027), (0.0, 'manager', 2024), (0.0, 'soon', 2022), (0.0, 'love', 2012), (0.0, 'live', 2010), (0.0, 'sex', 2005), (0.0, 'market', 2003), (0.0, 'friend', 1974), (0.0, 'professional', 1946), (0.0, 'soft', 1933), (0.0, 'alerts', 1932), (0.0, 'become', 1925), (0.0, 'receiving', 1921), (0.0, 'video', 1917), (0.0, 'came', 1916), (0.0, 'viewcvs', 1903), (0.0, 'websvn', 1893), (0.0, 'levitra', 1859), (0.0, 'shipping', 1844), (0.0, 'care', 1842), (0.0, 'growth', 1834), (0.0, 'php', 1828), (0.0, 'die', 1815), (0.0, 'anywhere', 1811), (0.0, 'person', 1795), (0.0, 'sell', 1794), (0.0, 'loss', 1787), (0.0, 'against', 1785), (0.0, 'broker', 1766), (0.0, 'strong', 1757), (0.0, 'secure', 1757), (0.0, 'changeset', 1753), (0.0, 'human', 1743), (0.0, 'drug', 1723), (0.0, 'play', 1718), (0.0, 'erectile', 1707), (0.0, 'approved', 1698), (0.0, 'utc', 1682), (0.0, 'established', 1671), (0.0, 'told', 1670), (0.0, 'payments', 1656), (0.0, 'story', 1650), (0.0, 'huge', 1650), (0.0, 'speech', 1642), (0.0, 'summer', 1641), (0.0, 'upon', 1636), (0.0, 'purchase', 1634), (0.0, 'review', 1619), (0.0, 'anatrim', 1608), (0.0, 'benefits', 1604), (0.0, 'profit', 1600), (0.0, 'energy', 1583), (0.0, 'tabs', 1572), (0.0, 'five', 1570), (0.0, 'dysfunction', 1564), (0.0, 'powerful', 1562), (0.0, 'increase', 1541), (0.0, 'women', 1539), (0.0, 'technology', 1535), (0.0, 'microsoft', 1534), (0.0, 'face', 1523), (0.0, 'fat', 1514), (0.0, 'lose', 1513), (0.0, 'erection', 1506), (0.0, 'private', 1490), (0.0, 'advertisement', 1484), (0.0, 'penis', 1475), (0.0, 'security', 1469), (0.0, 'drugs', 1463), (0.0, 'media', 1458), (0.0, 'manage', 1456), (0.0, 'pill', 1452), (0.0, 'patch', 1448), (0.0, 'bank', 1433), (0.0, 'keeping', 1431)]\n"
     ]
    }
   ],
   "source": [
    "cleaned_c0_significant_vocab.sort(key= lambda enriched_tuple : (enriched_tuple[0], -enriched_tuple[2]))\n",
    "print(cleaned_c0_significant_vocab[:201])"
   ]
  },
  {
   "cell_type": "markdown",
   "metadata": {},
   "source": [
    "### Iterating Over all Vocab in the Emails to Find Enriched Words for Cluster 1:\n",
    "- Note: A p-value of 0.05 is used to determine if the word's frequency is statistically significant between the two clusters"
   ]
  },
  {
   "cell_type": "code",
   "execution_count": 24,
   "metadata": {},
   "outputs": [],
   "source": [
    "c1_significant_vocab = []\n",
    "\n",
    "for word, word_idx in vectorizer.vocabulary_.items():\n",
    "    pvalue, word, c1_word_freq = find_enriched_words(c1_doc_freq, cluster1_df.shape[0],\n",
    "                                                     c0_doc_freq, cluster0_df.shape[0],\n",
    "                                                    word, word_idx)\n",
    "    if pvalue < 0.05:\n",
    "        c1_significant_vocab.append((pvalue, word, c1_word_freq)) "
   ]
  },
  {
   "cell_type": "markdown",
   "metadata": {},
   "source": [
    "### Filtering Out Non-Alphabetic Vocabulary:"
   ]
  },
  {
   "cell_type": "code",
   "execution_count": 25,
   "metadata": {},
   "outputs": [
    {
     "name": "stdout",
     "output_type": "stream",
     "text": [
      "Length of enriched word for cluster 1 before filtering: 5357\n",
      "Length of enriched word for cluster 0 after filtering: 4517\n"
     ]
    }
   ],
   "source": [
    "print(f'Length of enriched word for cluster 1 before filtering: {len(c1_significant_vocab)}')\n",
    "\n",
    "cleaned_c1_significant_vocab = []\n",
    "\n",
    "for  pvalue, word, c1_word_freq in c1_significant_vocab:\n",
    "    if word.isalpha():\n",
    "        cleaned_c1_significant_vocab.append((pvalue, word, c1_word_freq))\n",
    "\n",
    "print(f'Length of enriched word for cluster 0 after filtering: {len(cleaned_c1_significant_vocab)}')"
   ]
  },
  {
   "cell_type": "code",
   "execution_count": 26,
   "metadata": {},
   "outputs": [
    {
     "name": "stdout",
     "output_type": "stream",
     "text": [
      "[(0.0, 'do', 5775), (0.0, 'the', 5775), (0.0, 'self', 5775), (0.0, 'http', 5775), (0.0, 'org', 5775), (0.0, 'guide', 5775), (0.0, 'help', 5775), (0.0, 'www', 5775), (0.0, 'mailing', 5775), (0.0, 'stat', 5775), (0.0, 'math', 5775), (0.0, 'ethz', 5775), (0.0, 'ch', 5775), (0.0, 'mailman', 5775), (0.0, 'listinfo', 5775), (0.0, 'read', 5775), (0.0, 'posting', 5775), (0.0, 'project', 5775), (0.0, 'provide', 5775), (0.0, 'commented', 5775), (0.0, 'minimal', 5775), (0.0, 'contained', 5775), (0.0, 'reproducible', 5775), (0.0, 'code', 5775), (0.0, 'and', 5763), (0.0, 'list', 5718), (0.0, 'html', 5708), (0.0, 'please', 5704), (0.0, 'https', 5690), (0.0, 'to', 5380), (0.0, 'in', 4835), (0.0, 'of', 4737), (0.0, 'is', 4725), (0.0, 'this', 4086), (0.0, 'that', 3714), (0.0, 'but', 3394), (0.0, 'can', 3006), (0.0, 'wrote', 3000), (0.0, 'thanks', 2786), (0.0, 'there', 2490), (0.0, 'data', 2452), (0.0, 'am', 2208), (0.0, 'use', 2186), (0.0, 'using', 2176), (0.0, 'my', 2174), (0.0, 'how', 2163), (0.0, 'would', 2133), (0.0, 'any', 2082), (0.0, 'which', 2058), (0.0, 'function', 2057), (0.0, 'version', 2035), (0.0, 'hi', 1903), (0.0, 'want', 1697), (0.0, 'message', 1632), (0.0, 'problem', 1508), (0.0, 'alternative', 1502), (0.0, 'deleted', 1426), (0.0, 'package', 1364), (0.0, 'example', 1321), (0.0, 'error', 1286), (0.0, 'following', 1277), (0.0, 'university', 1173), (0.0, 'trying', 1116), (0.0, 'true', 986), (0.0, 'fax', 901), (0.0, 'matrix', 862), (0.0, 'values', 861), (0.0, 'library', 842), (0.0, 'tried', 837), (0.0, 'frame', 826), (0.0, 'plot', 805), (0.0, 'question', 796), (0.0, 'anyone', 754), (0.0, 'statistics', 677), (0.0, 'model', 642), (0.0, 'advance', 618), (0.0, 'tel', 618), (0.0, 'professor', 594), (0.0, 'packages', 589), (0.0, 'mailto', 587), (0.0, 'vector', 567), (0.0, 'ac', 557), (0.0, 'edu', 555), (0.0, 'variable', 540), (0.0, 'bounces', 531), (0.0, 'stats', 525), (0.0, 'variables', 498), (0.0, 'archive', 481), (0.0, 'column', 448), (0.0, 'factor', 439), (0.0, 'brian', 437), (0.0, 'columns', 426), (0.0, 'ripley', 425), (0.0, 'ph', 407), (0.0, 'row', 400), (0.0, 'nabble', 398), (0.0, 'rows', 369), (0.0, 'oxford', 350), (0.0, 'numeric', 343), (0.0, 'ox', 326), (0.0, 'parks', 314), (0.0, 'cran', 295), (0.0, 'statistical', 291), (0.0, 'regression', 289), (0.0, 'subset', 281), (0.0, 'dataset', 277), (0.0, 'col', 275), (0.0, 'linear', 274), (0.0, 'df', 274), (0.0, 'rnorm', 274), (0.0, 'sep', 272), (0.0, 'plots', 247), (0.0, 'axis', 240), (0.0, 'cbind', 222), (0.0, 'sas', 210), (0.0, 'datasets', 209), (0.0, 'nrow', 197), (0.0, 'gabor', 188), (0.0, 'biostatistics', 177), (0.0, 'variance', 176), (0.0, 'ncol', 174), (0.0, 'lattice', 170), (0.0, 'lapply', 164), (0.0, 'vectors', 164), (0.0, 'holtman', 149), (0.0, 'dataframe', 149), (0.0, 'rbind', 145), (0.0, 'htmland', 145), (0.0, 'deepayan', 145), (0.0, 'biostat', 145), (0.0, 'coefficients', 142), (0.0, 'listhttps', 139), (0.0, 'helpplease', 139), (0.0, 'grothendieck', 137), (0.0, 'sapply', 132), (0.0, 'anova', 131), (0.0, 'matrices', 130), (0.0, 'xyplot', 129), (0.0, 'colnames', 128), (0.0, 'runif', 127), (0.0, 'spss', 124), (0.0, 'rownames', 121), (0.0, 'grdevices', 114), (0.0, 'hmisc', 110), (0.0, 'harrell', 110), (0.0, 'xlab', 109), (0.0, 'ylab', 107), (0.0, 'glm', 101), (0.0, 'ylim', 101), (0.0, 'lme', 95), (0.0, 'sqrt', 93), (0.0, 'ligges', 93), (0.0, 'dalgaard', 93), (0.0, 'optim', 89), (0.0, 'logistic', 88), (0.0, 'sessioninfo', 87), (0.0, 'tapply', 85), (0.0, 'covariance', 79), (0.0, 'weiwei', 77), (0.0, 'textconnection', 76), (0.0, 'lmer', 75), (0.0, 'psych', 75), (0.0, 'xlim', 75), (0.0, 'coef', 72), (0.0, 'sundar', 71), (0.0, 'surv', 70), (0.0, 'gerontology', 68), (0.0, 'monteiro', 68), (0.0, 'xfmail', 67), (0.0, 'nlme', 66), (0.0, 'adschai', 65), (0.0, 'intermountainmail', 65), (0.0, 'abline', 65), (0.0, 'bioconductor', 63), (0.0, 'genego', 62), (0.0, 'varadhan', 61), (0.0, 'sweave', 60), (0.0, 'trellis', 60), (0.0, 'cex', 59), (0.0, 'jhsph', 57), (0.0, 'gunter', 55), (0.0, 'klasterecky', 55), (0.0, 'tcltk', 55), (0.0, 'boxplot', 54), (0.0, 'elyakhlifi', 54), (0.0, 'predictors', 53), (0.0, 'dimitris', 53), (0.0, 'mustapha', 53), (0.0, 'jhmi', 53), (0.0, 'rvaradhan', 52), (0.0, 'dieter', 52), (0.0, 'finzi', 51), (0.0, 'jfox', 50), (0.0, 'rodbc', 50), (0.0, 'nonclinical', 50), (0.0, 'envir', 50), (0.0, 'kuleuven', 50), (0.0, 'cwis', 50), (0.0, 'agingandhealth', 50), (0.0, 'socserv', 49), (0.0, 'correlations', 49)]\n"
     ]
    }
   ],
   "source": [
    "cleaned_c1_significant_vocab.sort(key= lambda enriched_tuple : (enriched_tuple[0], -enriched_tuple[2]))\n",
    "print(cleaned_c1_significant_vocab[:201])"
   ]
  },
  {
   "cell_type": "markdown",
   "metadata": {},
   "source": [
    "## Reflection Questions:\n",
    "1. Make a guess as to why the emails might form two distinct clusters\n",
    "  1. After skimming through the two clustered groups of email bodies, it appears that the reason for these two distinct groups is due to two different email body types, one which represents an initial email and one which represents a continuation of an email conversation. In many emails I saw, they began with a date, time, and what was last emailed in the conversation. The structure of this “reply” style email was likely picked up by the two most predictive principle components through common alpha-numeric tokens used. So, it is likely that the top, larger cluster seen in the plots represents initial emails, whereas the bottom, smaller cluster represents emails that were sent as a reply.\n",
    "2. Compare the ham/spam labels to the cluster labels using the confusion matrix you generated. Are spam messages in both clusters or a single cluster? Are all of the messages in the clusters with spam labeled as spam?\n",
    "  1. Spam emails are all in a single cluster. Howeveer, this cluster contains both spam and ham.\n",
    "3. Skim through the top 200 words for each cluster. Can you identify any patterns for either of the clusters?\n",
    "  1. One of the patterns that I noticed for the cluster containing spam is that the most common vocabulary included words that indicate requested action (“click”, “unsubscribe”, “buy”,  and “request”) or vocabulary that is associated with products (“price”, “free”, “money”, “Viagra”). However, for the cluster that contained only ham emails, the vocabulary reflected a much more technical email body (“stat”, “math”, “project”, “reproducible”, and “code”).\n",
    "4. Select the rows in the DataFrames for the emails in cluster 0. Print the top 25. Do the same for cluster 1. Do you the to and from addresses and subject lines provide additional help in identifying patterns?\n"
   ]
  },
  {
   "cell_type": "code",
   "execution_count": 27,
   "metadata": {},
   "outputs": [
    {
     "data": {
      "text/html": [
       "<div>\n",
       "<style scoped>\n",
       "    .dataframe tbody tr th:only-of-type {\n",
       "        vertical-align: middle;\n",
       "    }\n",
       "\n",
       "    .dataframe tbody tr th {\n",
       "        vertical-align: top;\n",
       "    }\n",
       "\n",
       "    .dataframe thead th {\n",
       "        text-align: right;\n",
       "    }\n",
       "</style>\n",
       "<table border=\"1\" class=\"dataframe\">\n",
       "  <thead>\n",
       "    <tr style=\"text-align: right;\">\n",
       "      <th></th>\n",
       "      <th>body</th>\n",
       "      <th>category</th>\n",
       "      <th>from_address</th>\n",
       "      <th>subject</th>\n",
       "      <th>to_address</th>\n",
       "    </tr>\n",
       "  </thead>\n",
       "  <tbody>\n",
       "    <tr>\n",
       "      <th>0</th>\n",
       "      <td>\\n\\n\\n\\n\\n\\n\\nDo you feel the pressure to perf...</td>\n",
       "      <td>spam</td>\n",
       "      <td>\"Tomas Jacobs\" &lt;RickyAmes@aol.com&gt;</td>\n",
       "      <td>Generic Cialis, branded quality@</td>\n",
       "      <td>the00@speedy.uwaterloo.ca</td>\n",
       "    </tr>\n",
       "    <tr>\n",
       "      <th>1</th>\n",
       "      <td>Hi, i've just updated from the gulus and I che...</td>\n",
       "      <td>ham</td>\n",
       "      <td>Yan Morin &lt;yan.morin@savoirfairelinux.com&gt;</td>\n",
       "      <td>Typo in /debian/README</td>\n",
       "      <td>debian-mirrors@lists.debian.org</td>\n",
       "    </tr>\n",
       "    <tr>\n",
       "      <th>2</th>\n",
       "      <td>authentic viagra\\n\\nMega  authenticV I A G R A...</td>\n",
       "      <td>spam</td>\n",
       "      <td>\"Sheila Crenshaw\" &lt;7stocknews@tractionmarketin...</td>\n",
       "      <td>authentic viagra</td>\n",
       "      <td>&lt;the00@plg.uwaterloo.ca&gt;</td>\n",
       "    </tr>\n",
       "    <tr>\n",
       "      <th>3</th>\n",
       "      <td>\\nHey Billy, \\n\\nit was really fun going out t...</td>\n",
       "      <td>spam</td>\n",
       "      <td>\"Stormy Dempsey\" &lt;vqucsmdfgvsg@ruraltek.com&gt;</td>\n",
       "      <td>Nice talking with ya</td>\n",
       "      <td>opt4@speedy.uwaterloo.ca</td>\n",
       "    </tr>\n",
       "    <tr>\n",
       "      <th>4</th>\n",
       "      <td>\\n\\n\\n\\n\\n\\n\\nsystem\" of the home.  It will ha...</td>\n",
       "      <td>spam</td>\n",
       "      <td>\"Christi T. Jernigan\" &lt;dcube@totalink.net&gt;</td>\n",
       "      <td>or trembling; stomach cramps; trouble in sleep...</td>\n",
       "      <td>ktwarwic@speedy.uwaterloo.ca</td>\n",
       "    </tr>\n",
       "    <tr>\n",
       "      <th>5</th>\n",
       "      <td>\\n\\n\\n\\n\\n\\n\\nthe program and the creative abi...</td>\n",
       "      <td>spam</td>\n",
       "      <td>\"Bobby L. Fleming\" &lt;zvyrepeated@liselebel.com&gt;</td>\n",
       "      <td>Which is duty</td>\n",
       "      <td>manager@speedy.uwaterloo.ca</td>\n",
       "    </tr>\n",
       "    <tr>\n",
       "      <th>6</th>\n",
       "      <td>\\n\\n\\n\\t\\t\\t\\t\\t\\t\\t\\t\\t\\t\\t\\t\\t\\t\\t\\t\\t\\t\\t\\t...</td>\n",
       "      <td>spam</td>\n",
       "      <td>\"Esteban Everett\" &lt;dbmagyrln@dbmag.com&gt;</td>\n",
       "      <td>Theorize get inside for local esc0rts who do i...</td>\n",
       "      <td>\"Theorize\" &lt;theorize@plg.uwaterloo.ca&gt;</td>\n",
       "    </tr>\n",
       "    <tr>\n",
       "      <th>7</th>\n",
       "      <td>\\n\\n\\n\\n\\n\\n HoodiaLife - Start Losing Weight ...</td>\n",
       "      <td>spam</td>\n",
       "      <td>Real Loss &lt;fibond@terra.com.do&gt;</td>\n",
       "      <td>Losing Weight Quickly</td>\n",
       "      <td>theorize@plg.uwaterloo.ca</td>\n",
       "    </tr>\n",
       "    <tr>\n",
       "      <th>9</th>\n",
       "      <td>\\n\\n\\n\\n\\n\\n\\nGood day!\\nVisit our new online ...</td>\n",
       "      <td>spam</td>\n",
       "      <td>\"Billy Chin\" &lt;boxer@0733.com&gt;</td>\n",
       "      <td>For Smile</td>\n",
       "      <td>&lt;smile@speedy.uwaterloo.ca&gt;</td>\n",
       "    </tr>\n",
       "    <tr>\n",
       "      <th>10</th>\n",
       "      <td>\\nCheck out the wonders of pound melting\\n\\n\\n...</td>\n",
       "      <td>spam</td>\n",
       "      <td>\"Josie Abernathy\" &lt;cebcalhounrennerhog@calhoun...</td>\n",
       "      <td>Less weight - more pleasure and joy</td>\n",
       "      <td>ftp@plg.uwaterloo.ca</td>\n",
       "    </tr>\n",
       "    <tr>\n",
       "      <th>11</th>\n",
       "      <td>\\n\\n\\n\\n\\n\\n\\nmovement on the tablet.  I could...</td>\n",
       "      <td>spam</td>\n",
       "      <td>wing as &lt;mstep@mavorama.com&gt;</td>\n",
       "      <td>problems in animal studies using rats or rabbi...</td>\n",
       "      <td>ktwarwic@speedy.uwaterloo.ca</td>\n",
       "    </tr>\n",
       "    <tr>\n",
       "      <th>12</th>\n",
       "      <td>\\n\\n\\n\\n\\n\\n\\n\\n</td>\n",
       "      <td>spam</td>\n",
       "      <td>\"Geoffrey\" &lt;reginald@funeasy.biz&gt;</td>\n",
       "      <td>We cure any desease!</td>\n",
       "      <td>&lt;manager@speedy.uwaterloo.ca&gt;</td>\n",
       "    </tr>\n",
       "    <tr>\n",
       "      <th>13</th>\n",
       "      <td>\\n\\n\\n\\n\\n\\nWhat is HGH Life™?\\n HGH Life™ is ...</td>\n",
       "      <td>spam</td>\n",
       "      <td>4ever Young &lt;ualicia@netscape.net&gt;</td>\n",
       "      <td>Human Growth Hormone</td>\n",
       "      <td>gnitpick@speedy.uwaterloo.ca</td>\n",
       "    </tr>\n",
       "    <tr>\n",
       "      <th>14</th>\n",
       "      <td>Hey Billy, \\n\\nit was really fun going out the...</td>\n",
       "      <td>spam</td>\n",
       "      <td>\"Caroyln Herbert\" &lt;slqwil@planetonline.com&gt;</td>\n",
       "      <td>hi man</td>\n",
       "      <td>the00@speedy.uwaterloo.ca, opt2@speedy.uwaterl...</td>\n",
       "    </tr>\n",
       "    <tr>\n",
       "      <th>15</th>\n",
       "      <td>\\n\\n\\n\\n\\n\\n\\ncan assist advertising and marke...</td>\n",
       "      <td>spam</td>\n",
       "      <td>Domingo Bolden &lt;lfriend@dryden.com&gt;</td>\n",
       "      <td>when taken for a long time or in large doses, ...</td>\n",
       "      <td>the00@plg2.math.uwaterloo.ca</td>\n",
       "    </tr>\n",
       "    <tr>\n",
       "      <th>17</th>\n",
       "      <td>\\n\\n\\n\\n\\n\\n\\n\\n</td>\n",
       "      <td>spam</td>\n",
       "      <td>\"Henry\" &lt;gilbert@garageservices.biz&gt;</td>\n",
       "      <td>We cure any desease!</td>\n",
       "      <td>&lt;the00@plg.uwaterloo.ca&gt;</td>\n",
       "    </tr>\n",
       "    <tr>\n",
       "      <th>18</th>\n",
       "      <td>\\n\\n\\n\\n\\n\\n\\n\\n</td>\n",
       "      <td>spam</td>\n",
       "      <td>\"Simon\" &lt;walter@griffield.biz&gt;</td>\n",
       "      <td>Need medicine? All here!</td>\n",
       "      <td>&lt;the00@plg.uwaterloo.ca&gt;</td>\n",
       "    </tr>\n",
       "    <tr>\n",
       "      <th>19</th>\n",
       "      <td>\\n\\n\\n\\n\\n\\n\\n\\n</td>\n",
       "      <td>spam</td>\n",
       "      <td>\"Philip\" &lt;richard@expomedica.biz&gt;</td>\n",
       "      <td>Need medicine? All here!</td>\n",
       "      <td>&lt;the00@plg.uwaterloo.ca&gt;</td>\n",
       "    </tr>\n",
       "    <tr>\n",
       "      <th>20</th>\n",
       "      <td>\\n\\n\\n\\n\\n\\n\\nBecome Fit For Life!\\n\\nHGH is a...</td>\n",
       "      <td>spam</td>\n",
       "      <td>Young Future &lt;kdemetrius@publicist.com&gt;</td>\n",
       "      <td>Become Fit For Life!</td>\n",
       "      <td>gnitpick@speedy.uwaterloo.ca</td>\n",
       "    </tr>\n",
       "    <tr>\n",
       "      <th>21</th>\n",
       "      <td></td>\n",
       "      <td>spam</td>\n",
       "      <td>\"Gena Blanco\" &lt;nytwdn@incamail.com&gt;</td>\n",
       "      <td>Please Read This C</td>\n",
       "      <td>\"Gnitpick\" &lt;gnitpick@speedy.uwaterloo.ca&gt;</td>\n",
       "    </tr>\n",
       "    <tr>\n",
       "      <th>22</th>\n",
       "      <td>\\nMake your fat friends envy you\\n\\n\\n\\n\\n\\n\\n...</td>\n",
       "      <td>spam</td>\n",
       "      <td>\"Carlene Campos\" &lt;cebcaligularhog@caligular.com&gt;</td>\n",
       "      <td>Be leaner and slimmer by next week</td>\n",
       "      <td>gnitpick@speedy.uwaterloo.ca</td>\n",
       "    </tr>\n",
       "    <tr>\n",
       "      <th>23</th>\n",
       "      <td>\\n\\n\\n\\n\\nRemember HANS and FIZ\\nFire Mountain...</td>\n",
       "      <td>spam</td>\n",
       "      <td>\"Chadwick Milesc\" &lt;ctuballerina@bb-autom.nl&gt;</td>\n",
       "      <td>But serpentine</td>\n",
       "      <td>&lt;theorize@plg.uwaterloo.ca&gt;</td>\n",
       "    </tr>\n",
       "    <tr>\n",
       "      <th>25</th>\n",
       "      <td>\\n\\n\\n\\n\\n\\n\\n\\n</td>\n",
       "      <td>spam</td>\n",
       "      <td>\"Henry\" &lt;richard@expomedica.biz&gt;</td>\n",
       "      <td>All products for your health!</td>\n",
       "      <td>&lt;theorize@plg.uwaterloo.ca&gt;</td>\n",
       "    </tr>\n",
       "    <tr>\n",
       "      <th>26</th>\n",
       "      <td>\\n\\n\\n\\n\\n\\n\\n\\nSunday, 08 April, 2007, 18:00 ...</td>\n",
       "      <td>ham</td>\n",
       "      <td>\"BBC daily email\" &lt;dailyemail@bbc.co.uk&gt;</td>\n",
       "      <td>Your daily e-mail from the BBC</td>\n",
       "      <td>ktwarwic@speedy.uwaterloo.ca</td>\n",
       "    </tr>\n",
       "    <tr>\n",
       "      <th>27</th>\n",
       "      <td>\\n\\n\\n\\n\\n\\nWhat is HGH Life™?\\n HGH Life™ is ...</td>\n",
       "      <td>spam</td>\n",
       "      <td>4ever Young &lt;doaraceli@altavista.nl&gt;</td>\n",
       "      <td>HGH really helps!</td>\n",
       "      <td>theorize@plg.uwaterloo.ca</td>\n",
       "    </tr>\n",
       "  </tbody>\n",
       "</table>\n",
       "</div>"
      ],
      "text/plain": [
       "                                                 body category  \\\n",
       "0   \\n\\n\\n\\n\\n\\n\\nDo you feel the pressure to perf...     spam   \n",
       "1   Hi, i've just updated from the gulus and I che...      ham   \n",
       "2   authentic viagra\\n\\nMega  authenticV I A G R A...     spam   \n",
       "3   \\nHey Billy, \\n\\nit was really fun going out t...     spam   \n",
       "4   \\n\\n\\n\\n\\n\\n\\nsystem\" of the home.  It will ha...     spam   \n",
       "5   \\n\\n\\n\\n\\n\\n\\nthe program and the creative abi...     spam   \n",
       "6   \\n\\n\\n\\t\\t\\t\\t\\t\\t\\t\\t\\t\\t\\t\\t\\t\\t\\t\\t\\t\\t\\t\\t...     spam   \n",
       "7   \\n\\n\\n\\n\\n\\n HoodiaLife - Start Losing Weight ...     spam   \n",
       "9   \\n\\n\\n\\n\\n\\n\\nGood day!\\nVisit our new online ...     spam   \n",
       "10  \\nCheck out the wonders of pound melting\\n\\n\\n...     spam   \n",
       "11  \\n\\n\\n\\n\\n\\n\\nmovement on the tablet.  I could...     spam   \n",
       "12                                   \\n\\n\\n\\n\\n\\n\\n\\n     spam   \n",
       "13  \\n\\n\\n\\n\\n\\nWhat is HGH Life™?\\n HGH Life™ is ...     spam   \n",
       "14  Hey Billy, \\n\\nit was really fun going out the...     spam   \n",
       "15  \\n\\n\\n\\n\\n\\n\\ncan assist advertising and marke...     spam   \n",
       "17                                   \\n\\n\\n\\n\\n\\n\\n\\n     spam   \n",
       "18                                   \\n\\n\\n\\n\\n\\n\\n\\n     spam   \n",
       "19                                   \\n\\n\\n\\n\\n\\n\\n\\n     spam   \n",
       "20  \\n\\n\\n\\n\\n\\n\\nBecome Fit For Life!\\n\\nHGH is a...     spam   \n",
       "21                                                        spam   \n",
       "22  \\nMake your fat friends envy you\\n\\n\\n\\n\\n\\n\\n...     spam   \n",
       "23  \\n\\n\\n\\n\\nRemember HANS and FIZ\\nFire Mountain...     spam   \n",
       "25                                   \\n\\n\\n\\n\\n\\n\\n\\n     spam   \n",
       "26  \\n\\n\\n\\n\\n\\n\\n\\nSunday, 08 April, 2007, 18:00 ...      ham   \n",
       "27  \\n\\n\\n\\n\\n\\nWhat is HGH Life™?\\n HGH Life™ is ...     spam   \n",
       "\n",
       "                                         from_address  \\\n",
       "0                  \"Tomas Jacobs\" <RickyAmes@aol.com>   \n",
       "1          Yan Morin <yan.morin@savoirfairelinux.com>   \n",
       "2   \"Sheila Crenshaw\" <7stocknews@tractionmarketin...   \n",
       "3        \"Stormy Dempsey\" <vqucsmdfgvsg@ruraltek.com>   \n",
       "4          \"Christi T. Jernigan\" <dcube@totalink.net>   \n",
       "5      \"Bobby L. Fleming\" <zvyrepeated@liselebel.com>   \n",
       "6             \"Esteban Everett\" <dbmagyrln@dbmag.com>   \n",
       "7                     Real Loss <fibond@terra.com.do>   \n",
       "9                       \"Billy Chin\" <boxer@0733.com>   \n",
       "10  \"Josie Abernathy\" <cebcalhounrennerhog@calhoun...   \n",
       "11                       wing as <mstep@mavorama.com>   \n",
       "12                  \"Geoffrey\" <reginald@funeasy.biz>   \n",
       "13                 4ever Young <ualicia@netscape.net>   \n",
       "14        \"Caroyln Herbert\" <slqwil@planetonline.com>   \n",
       "15                Domingo Bolden <lfriend@dryden.com>   \n",
       "17               \"Henry\" <gilbert@garageservices.biz>   \n",
       "18                     \"Simon\" <walter@griffield.biz>   \n",
       "19                  \"Philip\" <richard@expomedica.biz>   \n",
       "20            Young Future <kdemetrius@publicist.com>   \n",
       "21                \"Gena Blanco\" <nytwdn@incamail.com>   \n",
       "22   \"Carlene Campos\" <cebcaligularhog@caligular.com>   \n",
       "23       \"Chadwick Milesc\" <ctuballerina@bb-autom.nl>   \n",
       "25                   \"Henry\" <richard@expomedica.biz>   \n",
       "26           \"BBC daily email\" <dailyemail@bbc.co.uk>   \n",
       "27               4ever Young <doaraceli@altavista.nl>   \n",
       "\n",
       "                                              subject  \\\n",
       "0                   Generic Cialis, branded quality@    \n",
       "1                              Typo in /debian/README   \n",
       "2                                    authentic viagra   \n",
       "3                                Nice talking with ya   \n",
       "4   or trembling; stomach cramps; trouble in sleep...   \n",
       "5                                       Which is duty   \n",
       "6   Theorize get inside for local esc0rts who do i...   \n",
       "7                               Losing Weight Quickly   \n",
       "9                                           For Smile   \n",
       "10                Less weight - more pleasure and joy   \n",
       "11  problems in animal studies using rats or rabbi...   \n",
       "12                               We cure any desease!   \n",
       "13                               Human Growth Hormone   \n",
       "14                                             hi man   \n",
       "15  when taken for a long time or in large doses, ...   \n",
       "17                               We cure any desease!   \n",
       "18                           Need medicine? All here!   \n",
       "19                           Need medicine? All here!   \n",
       "20                               Become Fit For Life!   \n",
       "21                                 Please Read This C   \n",
       "22                 Be leaner and slimmer by next week   \n",
       "23                                     But serpentine   \n",
       "25                      All products for your health!   \n",
       "26                     Your daily e-mail from the BBC   \n",
       "27                                  HGH really helps!   \n",
       "\n",
       "                                           to_address  \n",
       "0                           the00@speedy.uwaterloo.ca  \n",
       "1                     debian-mirrors@lists.debian.org  \n",
       "2                            <the00@plg.uwaterloo.ca>  \n",
       "3                            opt4@speedy.uwaterloo.ca  \n",
       "4                        ktwarwic@speedy.uwaterloo.ca  \n",
       "5                         manager@speedy.uwaterloo.ca  \n",
       "6              \"Theorize\" <theorize@plg.uwaterloo.ca>  \n",
       "7                           theorize@plg.uwaterloo.ca  \n",
       "9                         <smile@speedy.uwaterloo.ca>  \n",
       "10                               ftp@plg.uwaterloo.ca  \n",
       "11                       ktwarwic@speedy.uwaterloo.ca  \n",
       "12                      <manager@speedy.uwaterloo.ca>  \n",
       "13                       gnitpick@speedy.uwaterloo.ca  \n",
       "14  the00@speedy.uwaterloo.ca, opt2@speedy.uwaterl...  \n",
       "15                       the00@plg2.math.uwaterloo.ca  \n",
       "17                           <the00@plg.uwaterloo.ca>  \n",
       "18                           <the00@plg.uwaterloo.ca>  \n",
       "19                           <the00@plg.uwaterloo.ca>  \n",
       "20                       gnitpick@speedy.uwaterloo.ca  \n",
       "21          \"Gnitpick\" <gnitpick@speedy.uwaterloo.ca>  \n",
       "22                       gnitpick@speedy.uwaterloo.ca  \n",
       "23                        <theorize@plg.uwaterloo.ca>  \n",
       "25                        <theorize@plg.uwaterloo.ca>  \n",
       "26                       ktwarwic@speedy.uwaterloo.ca  \n",
       "27                          theorize@plg.uwaterloo.ca  "
      ]
     },
     "execution_count": 27,
     "metadata": {},
     "output_type": "execute_result"
    }
   ],
   "source": [
    "email_df[(spam_labels == 'spam').values].head(25)"
   ]
  },
  {
   "cell_type": "code",
   "execution_count": 28,
   "metadata": {},
   "outputs": [
    {
     "data": {
      "text/html": [
       "<div>\n",
       "<style scoped>\n",
       "    .dataframe tbody tr th:only-of-type {\n",
       "        vertical-align: middle;\n",
       "    }\n",
       "\n",
       "    .dataframe tbody tr th {\n",
       "        vertical-align: top;\n",
       "    }\n",
       "\n",
       "    .dataframe thead th {\n",
       "        text-align: right;\n",
       "    }\n",
       "</style>\n",
       "<table border=\"1\" class=\"dataframe\">\n",
       "  <thead>\n",
       "    <tr style=\"text-align: right;\">\n",
       "      <th></th>\n",
       "      <th>body</th>\n",
       "      <th>category</th>\n",
       "      <th>from_address</th>\n",
       "      <th>subject</th>\n",
       "      <th>to_address</th>\n",
       "    </tr>\n",
       "  </thead>\n",
       "  <tbody>\n",
       "    <tr>\n",
       "      <th>8</th>\n",
       "      <td>\\nHi...\\n\\nI have to use R to find out the 90%...</td>\n",
       "      <td>ham</td>\n",
       "      <td>\"Jochen.F\" &lt;jjfahr@ucalgary.ca&gt;</td>\n",
       "      <td>[R] Confidence-Intervals.... help...</td>\n",
       "      <td>r-help@stat.math.ethz.ch</td>\n",
       "    </tr>\n",
       "    <tr>\n",
       "      <th>16</th>\n",
       "      <td>Hm... sounds like a homework problem to me...\\...</td>\n",
       "      <td>ham</td>\n",
       "      <td>\"Sarah Goslee\" &lt;sarah.goslee@gmail.com&gt;</td>\n",
       "      <td>Re: [R] Confidence-Intervals.... help...</td>\n",
       "      <td>\"Jochen.F\" &lt;jjfahr@ucalgary.ca&gt;</td>\n",
       "    </tr>\n",
       "    <tr>\n",
       "      <th>24</th>\n",
       "      <td>Daer r-helpers,\\n\\nCan anyone help with the fo...</td>\n",
       "      <td>ham</td>\n",
       "      <td>Michael Kubovy &lt;kubovy@virginia.edu&gt;</td>\n",
       "      <td>[R] Failure of mcsamp() but not mcmcsamp()</td>\n",
       "      <td>r-help@stat.math.ethz.ch</td>\n",
       "    </tr>\n",
       "    <tr>\n",
       "      <th>68</th>\n",
       "      <td>On 4/6/07, Wilfred Zegwaard  wrote:\\n\\n&gt; I'm n...</td>\n",
       "      <td>ham</td>\n",
       "      <td>\"Johann Hibschman\" &lt;johannh@gmail.com&gt;</td>\n",
       "      <td>Re: [R] Reasons to Use R</td>\n",
       "      <td>\"Wilfred Zegwaard\" &lt;wilfred.zegwaard@gmail.com&gt;</td>\n",
       "    </tr>\n",
       "    <tr>\n",
       "      <th>75</th>\n",
       "      <td>On 4/8/07, Johann Hibschman  wrote:\\n&gt; R's pas...</td>\n",
       "      <td>ham</td>\n",
       "      <td>\"Gabor Grothendieck\" &lt;ggrothendieck@gmail.com&gt;</td>\n",
       "      <td>Re: [R] Reasons to Use R</td>\n",
       "      <td>\"Johann Hibschman\" &lt;johannh@gmail.com&gt;</td>\n",
       "    </tr>\n",
       "    <tr>\n",
       "      <th>112</th>\n",
       "      <td>I have a question to everybody.\\n\\nAfter log10...</td>\n",
       "      <td>ham</td>\n",
       "      <td>\"Zia Uddin Ahmed\" &lt;zua3@cornell.edu&gt;</td>\n",
       "      <td>[R] How do I back transforme ordinary log-krig...</td>\n",
       "      <td>r-help@stat.math.ethz.ch</td>\n",
       "    </tr>\n",
       "    <tr>\n",
       "      <th>149</th>\n",
       "      <td>\\nI am writing some code to obtain publication...</td>\n",
       "      <td>ham</td>\n",
       "      <td>\"Cressoni, Massimo \\(NIH/NHLBI\\) [F]\" &lt;cresson...</td>\n",
       "      <td>[R] Plot symbols dimensions</td>\n",
       "      <td>&lt;r-help@stat.math.ethz.ch&gt;</td>\n",
       "    </tr>\n",
       "    <tr>\n",
       "      <th>278</th>\n",
       "      <td>Dear Johann and Gabor,\\n\\nIt's what amounts to...</td>\n",
       "      <td>ham</td>\n",
       "      <td>Wilfred Zegwaard &lt;wilfred.zegwaard@gmail.com&gt;</td>\n",
       "      <td>Re: [R] Reasons to Use R</td>\n",
       "      <td>r-help@stat.math.ethz.ch</td>\n",
       "    </tr>\n",
       "    <tr>\n",
       "      <th>307</th>\n",
       "      <td>Dear R-users,\\n\\nI would like to use \"bruto\" f...</td>\n",
       "      <td>ham</td>\n",
       "      <td>=?ISO-2022-JP?B?GyRCQG44fRsoQiAbJEI9JDwjGyhC?=...</td>\n",
       "      <td>[R] Could not fit correct values in discrimina...</td>\n",
       "      <td>r-help@stat.math.ethz.ch</td>\n",
       "    </tr>\n",
       "    <tr>\n",
       "      <th>318</th>\n",
       "      <td>Dear R users,\\n\\nI am new to R. I would like t...</td>\n",
       "      <td>ham</td>\n",
       "      <td>\"joey repice\" &lt;fireseedmusic@gmail.com&gt;</td>\n",
       "      <td>[R] R:Maximum likelihood estimation using BHHH...</td>\n",
       "      <td>r-help@stat.math.ethz.ch</td>\n",
       "    </tr>\n",
       "    <tr>\n",
       "      <th>323</th>\n",
       "      <td>Hi,\\n\\nI am using tsls function from sem packa...</td>\n",
       "      <td>ham</td>\n",
       "      <td>adschai@optonline.net</td>\n",
       "      <td>[R] Dealing with large nominal predictor in se...</td>\n",
       "      <td>r-help@stat.math.ethz.ch</td>\n",
       "    </tr>\n",
       "    <tr>\n",
       "      <th>408</th>\n",
       "      <td>On Sun, 8 Apr 2007, hadley wickham wrote:\\n\\n&gt;...</td>\n",
       "      <td>ham</td>\n",
       "      <td>Prof Brian Ripley &lt;ripley@stats.ox.ac.uk&gt;</td>\n",
       "      <td>Re: [R] data encapsulation with classes</td>\n",
       "      <td>hadley wickham &lt;h.wickham@gmail.com&gt;</td>\n",
       "    </tr>\n",
       "    <tr>\n",
       "      <th>472</th>\n",
       "      <td>Hello,\\n\\nI want to know if there are some fun...</td>\n",
       "      <td>ham</td>\n",
       "      <td>Shao &lt;xshining@gmail.com&gt;</td>\n",
       "      <td>[R] How to solve differential and integral equ...</td>\n",
       "      <td>r-help &lt;r-help@stat.math.ethz.ch&gt;</td>\n",
       "    </tr>\n",
       "    <tr>\n",
       "      <th>501</th>\n",
       "      <td>Joey,\\n\\nFirst of all, it is bad habit to call...</td>\n",
       "      <td>ham</td>\n",
       "      <td>chao gai &lt;chaogai@duineveld.demon.nl&gt;</td>\n",
       "      <td>Re: [R] R:Maximum likelihood estimation using ...</td>\n",
       "      <td>r-help@stat.math.ethz.ch</td>\n",
       "    </tr>\n",
       "    <tr>\n",
       "      <th>534</th>\n",
       "      <td>Thanks,\\nI have much to learn~~~\\n\\nShao chunx...</td>\n",
       "      <td>ham</td>\n",
       "      <td>Shao &lt;xshining@gmail.com&gt;</td>\n",
       "      <td>Re: [R] How to solve differential and integral...</td>\n",
       "      <td>r-help &lt;r-help@stat.math.ethz.ch&gt;</td>\n",
       "    </tr>\n",
       "    <tr>\n",
       "      <th>578</th>\n",
       "      <td>Dear adschai,\\n\\nIt's not possible to know fro...</td>\n",
       "      <td>ham</td>\n",
       "      <td>\"John Fox\" &lt;jfox@mcmaster.ca&gt;</td>\n",
       "      <td>Re: [R] Dealing with large nominal predictor i...</td>\n",
       "      <td>&lt;adschai@optonline.net&gt;</td>\n",
       "    </tr>\n",
       "    <tr>\n",
       "      <th>582</th>\n",
       "      <td>Thanks anhnmncb\\nI think the problem comes fro...</td>\n",
       "      <td>ham</td>\n",
       "      <td>fsando &lt;fsando@fs-analyse.dk&gt;</td>\n",
       "      <td>Re: [R] R 'could not find any X11 fonts'</td>\n",
       "      <td>r-help@stat.math.ethz.ch</td>\n",
       "    </tr>\n",
       "    <tr>\n",
       "      <th>594</th>\n",
       "      <td>I am trying to install the gnomeGUI package\\nI...</td>\n",
       "      <td>ham</td>\n",
       "      <td>fsando &lt;fsando@fs-analyse.dk&gt;</td>\n",
       "      <td>[R] Problem installing gnomeGUI in Ubuntu: \"HA...</td>\n",
       "      <td>r-help@stat.math.ethz.ch</td>\n",
       "    </tr>\n",
       "    <tr>\n",
       "      <th>622</th>\n",
       "      <td>Shuji,\\n\\nI suspect that bruto blows up becaus...</td>\n",
       "      <td>ham</td>\n",
       "      <td>\"Kuhn, Max\" &lt;Max.Kuhn@pfizer.com&gt;</td>\n",
       "      <td>Re: [R] Could not fit correct values in discri...</td>\n",
       "      <td>\"?? ??\" &lt;kawaguchi@math.kyushu-u.ac.jp&gt;, &lt;r-he...</td>\n",
       "    </tr>\n",
       "    <tr>\n",
       "      <th>629</th>\n",
       "      <td>&gt;&gt;&gt;&gt;&gt; \"BDR\" == Prof Brian Ripley \\n&gt;&gt;&gt;&gt;&gt;     o...</td>\n",
       "      <td>ham</td>\n",
       "      <td>Martin Maechler &lt;maechler@stat.math.ethz.ch&gt;</td>\n",
       "      <td>Re: [R] data encapsulation with classes</td>\n",
       "      <td>Prof Brian Ripley &lt;ripley@stats.ox.ac.uk&gt;</td>\n",
       "    </tr>\n",
       "    <tr>\n",
       "      <th>630</th>\n",
       "      <td>Does anyone know of a package that includes th...</td>\n",
       "      <td>ham</td>\n",
       "      <td>\"Chris Elsaesser\" &lt;chris.elsaesser@spadac.com&gt;</td>\n",
       "      <td>[R] Modified Sims test</td>\n",
       "      <td>&lt;r-help@stat.math.ethz.ch&gt;</td>\n",
       "    </tr>\n",
       "    <tr>\n",
       "      <th>668</th>\n",
       "      <td>Gabor has already showed you one way to make y...</td>\n",
       "      <td>ham</td>\n",
       "      <td>\"Greg Snow\" &lt;Greg.Snow@intermountainmail.org&gt;</td>\n",
       "      <td>Re: [R] lm() intercept at the end, rather than...</td>\n",
       "      <td>\"Dimitri Szerman\" &lt;dimitrijoe@gmail.com&gt;,\\n   ...</td>\n",
       "    </tr>\n",
       "    <tr>\n",
       "      <th>694</th>\n",
       "      <td>tha s9ze of db is an issue with R. We are stil...</td>\n",
       "      <td>ham</td>\n",
       "      <td>\"Jorge Cornejo-Donoso\" &lt;jorgecornejo@uach.cl&gt;</td>\n",
       "      <td>Re: [R] Reasons to Use R</td>\n",
       "      <td>\"'Wilfred Zegwaard'\" &lt;wilfred.zegwaard@gmail.c...</td>\n",
       "    </tr>\n",
       "    <tr>\n",
       "      <th>706</th>\n",
       "      <td>Have you tried 64 bit machines with larger mem...</td>\n",
       "      <td>ham</td>\n",
       "      <td>\"Gabor Grothendieck\" &lt;ggrothendieck@gmail.com&gt;</td>\n",
       "      <td>Re: [R] Reasons to Use R</td>\n",
       "      <td>\"Jorge Cornejo-Donoso\" &lt;jorgecornejo@uach.cl&gt;</td>\n",
       "    </tr>\n",
       "    <tr>\n",
       "      <th>715</th>\n",
       "      <td>I have a Dell with 2 Intel XEON 3.0 procesors ...</td>\n",
       "      <td>ham</td>\n",
       "      <td>\"Jorge Cornejo-Donoso\" &lt;jorgecornejo@uach.cl&gt;</td>\n",
       "      <td>Re: [R] Reasons to Use R</td>\n",
       "      <td>\"'Gabor Grothendieck'\" &lt;ggrothendieck@gmail.com&gt;</td>\n",
       "    </tr>\n",
       "  </tbody>\n",
       "</table>\n",
       "</div>"
      ],
      "text/plain": [
       "                                                  body category  \\\n",
       "8    \\nHi...\\n\\nI have to use R to find out the 90%...      ham   \n",
       "16   Hm... sounds like a homework problem to me...\\...      ham   \n",
       "24   Daer r-helpers,\\n\\nCan anyone help with the fo...      ham   \n",
       "68   On 4/6/07, Wilfred Zegwaard  wrote:\\n\\n> I'm n...      ham   \n",
       "75   On 4/8/07, Johann Hibschman  wrote:\\n> R's pas...      ham   \n",
       "112  I have a question to everybody.\\n\\nAfter log10...      ham   \n",
       "149  \\nI am writing some code to obtain publication...      ham   \n",
       "278  Dear Johann and Gabor,\\n\\nIt's what amounts to...      ham   \n",
       "307  Dear R-users,\\n\\nI would like to use \"bruto\" f...      ham   \n",
       "318  Dear R users,\\n\\nI am new to R. I would like t...      ham   \n",
       "323  Hi,\\n\\nI am using tsls function from sem packa...      ham   \n",
       "408  On Sun, 8 Apr 2007, hadley wickham wrote:\\n\\n>...      ham   \n",
       "472  Hello,\\n\\nI want to know if there are some fun...      ham   \n",
       "501  Joey,\\n\\nFirst of all, it is bad habit to call...      ham   \n",
       "534  Thanks,\\nI have much to learn~~~\\n\\nShao chunx...      ham   \n",
       "578  Dear adschai,\\n\\nIt's not possible to know fro...      ham   \n",
       "582  Thanks anhnmncb\\nI think the problem comes fro...      ham   \n",
       "594  I am trying to install the gnomeGUI package\\nI...      ham   \n",
       "622  Shuji,\\n\\nI suspect that bruto blows up becaus...      ham   \n",
       "629  >>>>> \"BDR\" == Prof Brian Ripley \\n>>>>>     o...      ham   \n",
       "630  Does anyone know of a package that includes th...      ham   \n",
       "668  Gabor has already showed you one way to make y...      ham   \n",
       "694  tha s9ze of db is an issue with R. We are stil...      ham   \n",
       "706  Have you tried 64 bit machines with larger mem...      ham   \n",
       "715  I have a Dell with 2 Intel XEON 3.0 procesors ...      ham   \n",
       "\n",
       "                                          from_address  \\\n",
       "8                      \"Jochen.F\" <jjfahr@ucalgary.ca>   \n",
       "16             \"Sarah Goslee\" <sarah.goslee@gmail.com>   \n",
       "24                Michael Kubovy <kubovy@virginia.edu>   \n",
       "68              \"Johann Hibschman\" <johannh@gmail.com>   \n",
       "75      \"Gabor Grothendieck\" <ggrothendieck@gmail.com>   \n",
       "112               \"Zia Uddin Ahmed\" <zua3@cornell.edu>   \n",
       "149  \"Cressoni, Massimo \\(NIH/NHLBI\\) [F]\" <cresson...   \n",
       "278      Wilfred Zegwaard <wilfred.zegwaard@gmail.com>   \n",
       "307  =?ISO-2022-JP?B?GyRCQG44fRsoQiAbJEI9JDwjGyhC?=...   \n",
       "318            \"joey repice\" <fireseedmusic@gmail.com>   \n",
       "323                              adschai@optonline.net   \n",
       "408          Prof Brian Ripley <ripley@stats.ox.ac.uk>   \n",
       "472                          Shao <xshining@gmail.com>   \n",
       "501              chao gai <chaogai@duineveld.demon.nl>   \n",
       "534                          Shao <xshining@gmail.com>   \n",
       "578                      \"John Fox\" <jfox@mcmaster.ca>   \n",
       "582                      fsando <fsando@fs-analyse.dk>   \n",
       "594                      fsando <fsando@fs-analyse.dk>   \n",
       "622                  \"Kuhn, Max\" <Max.Kuhn@pfizer.com>   \n",
       "629       Martin Maechler <maechler@stat.math.ethz.ch>   \n",
       "630     \"Chris Elsaesser\" <chris.elsaesser@spadac.com>   \n",
       "668      \"Greg Snow\" <Greg.Snow@intermountainmail.org>   \n",
       "694      \"Jorge Cornejo-Donoso\" <jorgecornejo@uach.cl>   \n",
       "706     \"Gabor Grothendieck\" <ggrothendieck@gmail.com>   \n",
       "715      \"Jorge Cornejo-Donoso\" <jorgecornejo@uach.cl>   \n",
       "\n",
       "                                               subject  \\\n",
       "8                 [R] Confidence-Intervals.... help...   \n",
       "16            Re: [R] Confidence-Intervals.... help...   \n",
       "24          [R] Failure of mcsamp() but not mcmcsamp()   \n",
       "68                            Re: [R] Reasons to Use R   \n",
       "75                            Re: [R] Reasons to Use R   \n",
       "112  [R] How do I back transforme ordinary log-krig...   \n",
       "149                        [R] Plot symbols dimensions   \n",
       "278                           Re: [R] Reasons to Use R   \n",
       "307  [R] Could not fit correct values in discrimina...   \n",
       "318  [R] R:Maximum likelihood estimation using BHHH...   \n",
       "323  [R] Dealing with large nominal predictor in se...   \n",
       "408            Re: [R] data encapsulation with classes   \n",
       "472  [R] How to solve differential and integral equ...   \n",
       "501  Re: [R] R:Maximum likelihood estimation using ...   \n",
       "534  Re: [R] How to solve differential and integral...   \n",
       "578  Re: [R] Dealing with large nominal predictor i...   \n",
       "582           Re: [R] R 'could not find any X11 fonts'   \n",
       "594  [R] Problem installing gnomeGUI in Ubuntu: \"HA...   \n",
       "622  Re: [R] Could not fit correct values in discri...   \n",
       "629            Re: [R] data encapsulation with classes   \n",
       "630                             [R] Modified Sims test   \n",
       "668  Re: [R] lm() intercept at the end, rather than...   \n",
       "694                           Re: [R] Reasons to Use R   \n",
       "706                           Re: [R] Reasons to Use R   \n",
       "715                           Re: [R] Reasons to Use R   \n",
       "\n",
       "                                            to_address  \n",
       "8                             r-help@stat.math.ethz.ch  \n",
       "16                     \"Jochen.F\" <jjfahr@ucalgary.ca>  \n",
       "24                            r-help@stat.math.ethz.ch  \n",
       "68     \"Wilfred Zegwaard\" <wilfred.zegwaard@gmail.com>  \n",
       "75              \"Johann Hibschman\" <johannh@gmail.com>  \n",
       "112                           r-help@stat.math.ethz.ch  \n",
       "149                         <r-help@stat.math.ethz.ch>  \n",
       "278                           r-help@stat.math.ethz.ch  \n",
       "307                           r-help@stat.math.ethz.ch  \n",
       "318                           r-help@stat.math.ethz.ch  \n",
       "323                           r-help@stat.math.ethz.ch  \n",
       "408               hadley wickham <h.wickham@gmail.com>  \n",
       "472                  r-help <r-help@stat.math.ethz.ch>  \n",
       "501                           r-help@stat.math.ethz.ch  \n",
       "534                  r-help <r-help@stat.math.ethz.ch>  \n",
       "578                            <adschai@optonline.net>  \n",
       "582                           r-help@stat.math.ethz.ch  \n",
       "594                           r-help@stat.math.ethz.ch  \n",
       "622  \"?? ??\" <kawaguchi@math.kyushu-u.ac.jp>, <r-he...  \n",
       "629          Prof Brian Ripley <ripley@stats.ox.ac.uk>  \n",
       "630                         <r-help@stat.math.ethz.ch>  \n",
       "668  \"Dimitri Szerman\" <dimitrijoe@gmail.com>,\\n   ...  \n",
       "694  \"'Wilfred Zegwaard'\" <wilfred.zegwaard@gmail.c...  \n",
       "706      \"Jorge Cornejo-Donoso\" <jorgecornejo@uach.cl>  \n",
       "715   \"'Gabor Grothendieck'\" <ggrothendieck@gmail.com>  "
      ]
     },
     "execution_count": 28,
     "metadata": {},
     "output_type": "execute_result"
    }
   ],
   "source": [
    "email_df[(spam_labels == 'ham').values].head(25)"
   ]
  },
  {
   "cell_type": "markdown",
   "metadata": {},
   "source": [
    "4. -\n",
    "  1. By comparing email entries from both of the clusters, two attributes appear to separate the two groups. The first is that the subject lines for cluster 1, the smaller cluster that appears lower on the cluster plots, contain some indication that the emails were reply emails. This is indicated in the subject lines by the prefix “Re:”. Second, cluster 1 appears to have many more “common” email domains for the individual that sent the email than in cluster 1. This was observed because cluster 1 has several senders with “@gmail.com” and “.edu” email domains compared to cluster 0 which primarily has suspicious domains such as “@0733.com” and “@funeasy.biz”.\n",
    "5. The clusters represent email from two separate mailing lists. One mailing list is for the R programming language, while the other mailing list is for a university. Which mailing list contained all of the spam?\n",
    "  1. As mentioned earlier, cluster 1 contained many more technical terms such as “stat”, “math”, “project”, “reproducible”, and “code”. All of these terms are common when discussing programming languages, as such, it appears that cluster 1 was the R programming language mailing list. This conclusion is further supported by the fact that many of the subject lines contain references to 'R' and phrases such as 'Reasons to Use R', which are extremely likely to be references to the R progamming language. In addition, just about all of email recipients for cluster 0 had the domain “uwaterloo.ca”, further indicating that cluster 0 was likely the university mailing list."
   ]
  },
  {
   "cell_type": "markdown",
   "metadata": {},
   "source": [
    "---\n",
    "## Conclusion:\n",
    "- This lab acted as an exercise in using clustering techniques in order to aid in the exploratory data analysis of a data set comprised of emails that are labeled as spam, or ham. This data set contains 65,542 emails, all of which are stored as separate JSON files stored in a central directory. In order to find the most accurate clusters that could be found using this data set, the DBSCAN algorithm was used from Scikit Learn due to its ability to cluster non-flat geometry, uneven clusters, and label data points as outliers. Using the body of the emails, DBSCAN was able to find two clusters within the data, and labeled 52 emails as outliers. These groups somewhat corresponded to whether the emails were spam or ham, as every email in cluster 1 was ham, but emails in cluster 0 were roughly 2/3 spam and 1/3 ham. By analyzing the vocabulary for statistically significant differences in word frequencies it was found that most of the spam emails contained vocabulary associated with action, “click”, “unsubscribe”, “buy”, and “request”, as well as products, “price”, “free”, “money”, “Viagra”. Whereas the ham emails contained vocabulary that was much more technical, “stat”, “math”, “project”, “reproducible”, and “code”. Lastly, after learning that this data set was comprised of a mailing list for the R programming language and a university mailing list, it became clear that this was likely the two groups that DBSCAN was clustering by. This was made apparent by observing that cluster 0 all had recipient domains of “uwaterloo.ca”, and that cluster 1 had subject lines containing indications of active replies to emails indicated by the “Re:” prefix and also the fact that the subject lines contained many uses of ‘R’, which is almost positively a reference to the R programming language."
   ]
  }
 ],
 "metadata": {
  "kernelspec": {
   "display_name": "Python 3",
   "language": "python",
   "name": "python3"
  },
  "language_info": {
   "codemirror_mode": {
    "name": "ipython",
    "version": 3
   },
   "file_extension": ".py",
   "mimetype": "text/x-python",
   "name": "python",
   "nbconvert_exporter": "python",
   "pygments_lexer": "ipython3",
   "version": "3.7.3"
  }
 },
 "nbformat": 4,
 "nbformat_minor": 5
}
